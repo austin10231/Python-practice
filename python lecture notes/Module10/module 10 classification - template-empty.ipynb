{
 "cells": [
  {
   "cell_type": "markdown",
   "metadata": {},
   "source": [
    "# Classification for Data Exploration -- Decision Trees"
   ]
  },
  {
   "cell_type": "markdown",
   "metadata": {},
   "source": [
    "Before we start, we need to install a couple of things (in this order), which will make it possible to visualize decision trees. "
   ]
  },
  {
   "cell_type": "markdown",
   "metadata": {},
   "source": [
    "### Anaconda Environment check"
   ]
  },
  {
   "cell_type": "markdown",
   "metadata": {},
   "source": [
    "Make sure your Anaconda environment has : **pydotplus**  and **graphviz**"
   ]
  },
  {
   "cell_type": "markdown",
   "metadata": {},
   "source": [
    "If the Anaconda doesn't have **pydotplus**, you can use the following command to install it into Anaconda.  Anaconda -> Environments -> base(root) -> Open Terminal:\n",
    "\n",
    "**conda install -c conda-forge pydotplus**\n",
    "\n",
    "**conda install -c conda-forge graphviz**\n"
   ]
  },
  {
   "cell_type": "code",
   "execution_count": null,
   "metadata": {
    "scrolled": true
   },
   "outputs": [],
   "source": [
    "import pandas as pd\n",
    "import numpy as np\n",
    "import seaborn as sns\n",
    "%pylab inline\n",
    "\n",
    "import sklearn as sk\n",
    "import sklearn.tree as tree\n",
    "from IPython.display import Image  \n",
    "import pydotplus"
   ]
  },
  {
   "cell_type": "code",
   "execution_count": null,
   "metadata": {},
   "outputs": [],
   "source": [
    "import warnings\n",
    "#suppress all future warning\n",
    "warnings.filterwarnings('ignore')"
   ]
  },
  {
   "cell_type": "markdown",
   "metadata": {},
   "source": [
    "Data from here <href>https://www.kaggle.com/uciml/adult-census-income</href>"
   ]
  },
  {
   "cell_type": "code",
   "execution_count": null,
   "metadata": {},
   "outputs": [],
   "source": [
    "df = pd.read_csv('adult.csv')"
   ]
  },
  {
   "cell_type": "code",
   "execution_count": null,
   "metadata": {},
   "outputs": [],
   "source": [
    "df.head()"
   ]
  },
  {
   "cell_type": "markdown",
   "metadata": {},
   "source": [
    "Let's try to train a decision tree to predict income"
   ]
  },
  {
   "cell_type": "code",
   "execution_count": null,
   "metadata": {},
   "outputs": [],
   "source": []
  },
  {
   "cell_type": "markdown",
   "metadata": {},
   "source": [
    "### Two problems with this data"
   ]
  },
  {
   "cell_type": "markdown",
   "metadata": {},
   "source": [
    "<ol>\n",
    "<li>We have null values\n",
    "<li>We need numbers only\n",
    "</ol>"
   ]
  },
  {
   "cell_type": "markdown",
   "metadata": {},
   "source": [
    "## Cleaning the data set"
   ]
  },
  {
   "cell_type": "markdown",
   "metadata": {},
   "source": [
    "replace ? with NaN"
   ]
  },
  {
   "cell_type": "code",
   "execution_count": null,
   "metadata": {},
   "outputs": [],
   "source": []
  },
  {
   "cell_type": "markdown",
   "metadata": {},
   "source": [
    "remove education (we already have education.num)"
   ]
  },
  {
   "cell_type": "code",
   "execution_count": null,
   "metadata": {},
   "outputs": [],
   "source": []
  },
  {
   "cell_type": "markdown",
   "metadata": {},
   "source": [
    "Check how many unique patterns in each columns."
   ]
  },
  {
   "cell_type": "code",
   "execution_count": null,
   "metadata": {},
   "outputs": [],
   "source": []
  },
  {
   "cell_type": "markdown",
   "metadata": {},
   "source": [
    "make dummy variables for all categorical variables except income"
   ]
  },
  {
   "cell_type": "code",
   "execution_count": null,
   "metadata": {},
   "outputs": [],
   "source": []
  },
  {
   "cell_type": "markdown",
   "metadata": {},
   "source": [
    "Make income binary"
   ]
  },
  {
   "cell_type": "code",
   "execution_count": null,
   "metadata": {},
   "outputs": [],
   "source": []
  },
  {
   "cell_type": "markdown",
   "metadata": {},
   "source": [
    "Need to remove duplicated columns"
   ]
  },
  {
   "cell_type": "code",
   "execution_count": null,
   "metadata": {},
   "outputs": [],
   "source": []
  },
  {
   "cell_type": "markdown",
   "metadata": {},
   "source": [
    "## Train the decision tree"
   ]
  },
  {
   "cell_type": "markdown",
   "metadata": {},
   "source": [
    "Make X and Y. Remember to take out the dependent variable from X, or else the classification problem becomes trivial!"
   ]
  },
  {
   "cell_type": "code",
   "execution_count": null,
   "metadata": {},
   "outputs": [],
   "source": []
  },
  {
   "cell_type": "markdown",
   "metadata": {},
   "source": [
    "Build the tree"
   ]
  },
  {
   "cell_type": "code",
   "execution_count": null,
   "metadata": {},
   "outputs": [],
   "source": []
  },
  {
   "cell_type": "markdown",
   "metadata": {},
   "source": [
    "Visualize the tree"
   ]
  },
  {
   "cell_type": "code",
   "execution_count": null,
   "metadata": {
    "scrolled": true
   },
   "outputs": [],
   "source": [
    "import graphviz\n",
    "# This code will visualize a decision tree dt, trained with the attributes in X and the class labels in Y\n",
    "dt_feature_names = list(X.columns)\n",
    "dt_target_names = [str(s) for s in Y.unique()]\n",
    "dot_data =tree.export_graphviz(dt, feature_names=dt_feature_names, class_names=dt_target_names, filled=True)  \n",
    "graph = graphviz.Source(dot_data) \n",
    "graph"
   ]
  },
  {
   "cell_type": "markdown",
   "metadata": {},
   "source": [
    "### Note 1: \n",
    "For **Mac OS** users who experience issue installing graphviz, please try the following steps:  (First check your MacOS version. If it is still 10.x, pls update the MacOS to 11.x)\n",
    "\n",
    "1. Go to this website: https://brew.sh \n",
    "2. Once you launch the website, you will see a line of code under **Install Homebrew**\n",
    "3. Copy the code <i>**/bin/bash -c \"$(curl -fsSL https://raw.githubusercontent.com/Homebrew/install/HEAD/install.sh)\"**</i>\n",
    "to your computer’s terminal (NOT the terminal launched through Anaconda) and run it\n",
    "4. After installing Homebrew successfully, run the code <i>**brew install graphviz**</i> to your computer’s terminal\n",
    "5. Restart computer and if installation in step 4 does not work \n",
    "\n",
    "If restarting the computer in step 5 does not help installing graphviz, please try the below steps:\n",
    "\n",
    "6. Go to computer’s terminal and run the code <i>**brew uninstall graphviz**</i>\n",
    "7. Use the following command to install it into Anaconda: \n",
    "Open Anaconda -> Environments -> Base(root) -> Open Terminal -> run the following code: <i>**pip install graphviz**</i>\n",
    "8. Restart computer and if installation in step 7 does not work\n",
    "\n",
    "\n",
    "- If restarting the computer in step 8 does not help installing graphviz, please contact TA. \n",
    "\n",
    "Note: \n",
    "- For MacOS 10.15.6+, the error \"GraphViz's executables not found\" can be solved by installing brew (steps 1-5)\n",
    "- MacOS Catalina (10.15.6) users need to take steps 6-8 after trying steps 1-5\n",
    "- MacOS version 10.13 is too old for direct brew installation and has to update ios before any step is taken."
   ]
  },
  {
   "cell_type": "markdown",
   "metadata": {},
   "source": [
    "### Note 2:\n",
    "\n",
    "For **Microsoft Windows OS**, if you see error **'GraphViz's executables not found.'** You need to first figure out the ACTUAL_DIRECTORY where the graphviz package being installed to in your C drive. Then do one of the following:\n",
    "\n",
    "1. Modify the Windows system PATH environment, add in the ACTUAL_DIRECTORY (for example: C:\\Users\\ttan\\Anaconda3\\Library\\bin\\graphviz\\bin) then restart the Windows. \n",
    "\n",
    "Detail example in here : https://geek-university.com/python/add-python-to-the-windows-path/ or https://www.youtube.com/watch?v=q7PzqbKUm_4\n",
    "\n",
    "Or...\n",
    "\n",
    "2. Add the following two lines at the beginning of this code section.\n",
    "\n",
    "<i>**import os**</i>\n",
    "\n",
    "<i>**os.environ[\"PATH\"] += os.pathsep + ACTUAL_DIRECTORY**</i>\n",
    "\n",
    "for example : <i>**os.environ[\"PATH\"] += os.pathsep + C:\\Users\\ttan\\Anaconda3\\Library\\bin\\graphviz\\bin**</i>\n",
    "\n",
    "**Note to user name with a space:**\n",
    "\n",
    "The above workaround may not work for you.  Here are some extra steps you need to do:\n",
    "* uninstall the graphviz package from Anaconda by <i>**conda remove graphviz**</i> from the cmd line.\n",
    "* reinstall the pydotplus with <i>**conda install pydotplus**</i>\n",
    "* manually install the graphviz package with the .msi file through here https://graphviz.gitlab.io/download/ Use the Windows host, stable version. (for example, graphviz-2.38.msi )\n",
    "* When executing the .msi file, specify a directory that is NOT under your user name (example: c:\\graphviz )\n",
    "* After installation completed, modify/add your Windows PATH env. variable to the newly installed graphviz directory. (see above example Youtube video)\n",
    "* restart Anaconda, now your graphviz search path issue should be resolved.\n"
   ]
  },
  {
   "cell_type": "markdown",
   "metadata": {},
   "source": [
    "## Validating the finding"
   ]
  },
  {
   "cell_type": "code",
   "execution_count": null,
   "metadata": {
    "scrolled": false
   },
   "outputs": [],
   "source": []
  },
  {
   "cell_type": "markdown",
   "metadata": {},
   "source": [
    "Education.num = 12.5 is a good threshold to separate low income from high income, but it is more effective for those married civilly (right part of the tree)\n"
   ]
  },
  {
   "cell_type": "code",
   "execution_count": null,
   "metadata": {},
   "outputs": [],
   "source": []
  },
  {
   "cell_type": "markdown",
   "metadata": {},
   "source": [
    "Capital.gain = 7073 is a good threshold to separate low income from high income, but it is more effective for those NOT married civilly (left part of the tree)\n"
   ]
  }
 ],
 "metadata": {
  "kernelspec": {
   "display_name": "Python 3 (ipykernel)",
   "language": "python",
   "name": "python3"
  },
  "language_info": {
   "codemirror_mode": {
    "name": "ipython",
    "version": 3
   },
   "file_extension": ".py",
   "mimetype": "text/x-python",
   "name": "python",
   "nbconvert_exporter": "python",
   "pygments_lexer": "ipython3",
   "version": "3.9.13"
  }
 },
 "nbformat": 4,
 "nbformat_minor": 1
}
