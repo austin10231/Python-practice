{
 "cells": [
  {
   "cell_type": "markdown",
   "metadata": {},
   "source": [
    "# Univariate Time Series"
   ]
  },
  {
   "cell_type": "markdown",
   "metadata": {},
   "source": [
    "<b>Definition</b> from <a href='https://onlinecourses.science.psu.edu/stat510/node/47'>here</a>: <i>a sequence of measurements of the same variable collected over time</i>. Examples: stock prices, demand, housing prices."
   ]
  },
  {
   "cell_type": "markdown",
   "metadata": {},
   "source": [
    "In pandas a univariate time series is a Series object where the index is a \"timestamp\"."
   ]
  },
  {
   "cell_type": "markdown",
   "metadata": {},
   "source": [
    "## Stock prices"
   ]
  },
  {
   "cell_type": "markdown",
   "metadata": {},
   "source": [
    "Our goal is to create a Series object <i>stock</i> with the Google stock closing price."
   ]
  },
  {
   "cell_type": "markdown",
   "metadata": {},
   "source": [
    "<b>Stock History info:</b> You can get the Google stock historical price data from https://finance.yahoo.com/quote/GOOGL/history?p=GOOGL\n",
    "In 'Historical Data' tab, set the 'Time Period' to Max, then 'Apply', then 'Download Data'. A .csv file will be downloaded into your local computer. Rename the file to **GOOGL.csv**"
   ]
  },
  {
   "cell_type": "code",
   "execution_count": 1,
   "metadata": {},
   "outputs": [],
   "source": [
    "# print all the outputs in a cell\n",
    "from IPython.core.interactiveshell import InteractiveShell\n",
    "InteractiveShell.ast_node_interactivity = \"all\""
   ]
  },
  {
   "cell_type": "markdown",
   "metadata": {},
   "source": [
    "The following code creates a Series object <i>stock</i> based on GOOGL.csv file. Index is the date and the variable is the Google stock closing prices. "
   ]
  },
  {
   "cell_type": "code",
   "execution_count": 4,
   "metadata": {},
   "outputs": [],
   "source": [
    "import pandas as pd\n",
    "import numpy as np\n",
    "data = pd.read_csv('GOOGL.csv',index_col=0, parse_dates=True)\n",
    "#or use the following two lines\n",
    "#data = pd.read_csv('GOOGL.csv',index_col=0)\n",
    "#data.index = data.index.astype('datetime64[ns]')"
   ]
  },
  {
   "cell_type": "code",
   "execution_count": 6,
   "metadata": {},
   "outputs": [],
   "source": [
    "#Set to 2 decimal places, and display all columns\n",
    "pd.set_option('display.float_format', lambda x: '%.2f' % x)"
   ]
  },
  {
   "cell_type": "code",
   "execution_count": 8,
   "metadata": {},
   "outputs": [
    {
     "data": {
      "text/html": [
       "<div>\n",
       "<style scoped>\n",
       "    .dataframe tbody tr th:only-of-type {\n",
       "        vertical-align: middle;\n",
       "    }\n",
       "\n",
       "    .dataframe tbody tr th {\n",
       "        vertical-align: top;\n",
       "    }\n",
       "\n",
       "    .dataframe thead th {\n",
       "        text-align: right;\n",
       "    }\n",
       "</style>\n",
       "<table border=\"1\" class=\"dataframe\">\n",
       "  <thead>\n",
       "    <tr style=\"text-align: right;\">\n",
       "      <th></th>\n",
       "      <th>Open</th>\n",
       "      <th>High</th>\n",
       "      <th>Low</th>\n",
       "      <th>Close</th>\n",
       "      <th>Adj Close</th>\n",
       "      <th>Volume</th>\n",
       "    </tr>\n",
       "    <tr>\n",
       "      <th>Date</th>\n",
       "      <th></th>\n",
       "      <th></th>\n",
       "      <th></th>\n",
       "      <th></th>\n",
       "      <th></th>\n",
       "      <th></th>\n",
       "    </tr>\n",
       "  </thead>\n",
       "  <tbody>\n",
       "    <tr>\n",
       "      <th>2004-08-19</th>\n",
       "      <td>50.05</td>\n",
       "      <td>52.08</td>\n",
       "      <td>48.03</td>\n",
       "      <td>50.22</td>\n",
       "      <td>50.22</td>\n",
       "      <td>44659096</td>\n",
       "    </tr>\n",
       "    <tr>\n",
       "      <th>2004-08-20</th>\n",
       "      <td>50.56</td>\n",
       "      <td>54.59</td>\n",
       "      <td>50.30</td>\n",
       "      <td>54.21</td>\n",
       "      <td>54.21</td>\n",
       "      <td>22834343</td>\n",
       "    </tr>\n",
       "    <tr>\n",
       "      <th>2004-08-23</th>\n",
       "      <td>55.43</td>\n",
       "      <td>56.80</td>\n",
       "      <td>54.58</td>\n",
       "      <td>54.75</td>\n",
       "      <td>54.75</td>\n",
       "      <td>18256126</td>\n",
       "    </tr>\n",
       "    <tr>\n",
       "      <th>2004-08-24</th>\n",
       "      <td>55.68</td>\n",
       "      <td>55.86</td>\n",
       "      <td>51.84</td>\n",
       "      <td>52.49</td>\n",
       "      <td>52.49</td>\n",
       "      <td>15247337</td>\n",
       "    </tr>\n",
       "    <tr>\n",
       "      <th>2004-08-25</th>\n",
       "      <td>52.53</td>\n",
       "      <td>54.05</td>\n",
       "      <td>51.99</td>\n",
       "      <td>53.05</td>\n",
       "      <td>53.05</td>\n",
       "      <td>9188602</td>\n",
       "    </tr>\n",
       "  </tbody>\n",
       "</table>\n",
       "</div>"
      ],
      "text/plain": [
       "            Open  High   Low  Close  Adj Close    Volume\n",
       "Date                                                    \n",
       "2004-08-19 50.05 52.08 48.03  50.22      50.22  44659096\n",
       "2004-08-20 50.56 54.59 50.30  54.21      54.21  22834343\n",
       "2004-08-23 55.43 56.80 54.58  54.75      54.75  18256126\n",
       "2004-08-24 55.68 55.86 51.84  52.49      52.49  15247337\n",
       "2004-08-25 52.53 54.05 51.99  53.05      53.05   9188602"
      ]
     },
     "execution_count": 8,
     "metadata": {},
     "output_type": "execute_result"
    }
   ],
   "source": [
    "data.head()"
   ]
  },
  {
   "cell_type": "markdown",
   "metadata": {},
   "source": [
    "### Create an univariate time series based on stock closing price"
   ]
  },
  {
   "cell_type": "code",
   "execution_count": 12,
   "metadata": {},
   "outputs": [],
   "source": [
    "close = data['Close']"
   ]
  },
  {
   "cell_type": "markdown",
   "metadata": {},
   "source": [
    "The following command will plot the stock price"
   ]
  },
  {
   "cell_type": "code",
   "execution_count": 16,
   "metadata": {},
   "outputs": [
    {
     "data": {
      "text/plain": [
       "<Axes: xlabel='Date'>"
      ]
     },
     "execution_count": 16,
     "metadata": {},
     "output_type": "execute_result"
    },
    {
     "data": {
      "image/png": "[encoded data removed]",
      "text/plain": [
       "<Figure size 640x480 with 1 Axes>"
      ]
     },
     "metadata": {},
     "output_type": "display_data"
    }
   ],
   "source": [
    "close.plot()"
   ]
  },
  {
   "cell_type": "markdown",
   "metadata": {},
   "source": [
    "## Exploring a Time Series"
   ]
  },
  {
   "cell_type": "markdown",
   "metadata": {},
   "source": [
    "This Series object has one entry for each trading day. The index (of type <i>datetime64</i>) is the day and the value (of type <i>float64</i>) is the closing price."
   ]
  },
  {
   "cell_type": "markdown",
   "metadata": {},
   "source": [
    "Let's take a look at the first 10 days of data"
   ]
  },
  {
   "cell_type": "code",
   "execution_count": 18,
   "metadata": {},
   "outputs": [
    {
     "data": {
      "text/plain": [
       "Date\n",
       "2004-08-19   50.22\n",
       "2004-08-20   54.21\n",
       "2004-08-23   54.75\n",
       "2004-08-24   52.49\n",
       "2004-08-25   53.05\n",
       "2004-08-26   54.01\n",
       "2004-08-27   53.13\n",
       "2004-08-30   51.06\n",
       "2004-08-31   51.24\n",
       "2004-09-01   50.18\n",
       "Name: Close, dtype: float64"
      ]
     },
     "execution_count": 18,
     "metadata": {},
     "output_type": "execute_result"
    }
   ],
   "source": [
    "close.head(10)"
   ]
  },
  {
   "cell_type": "markdown",
   "metadata": {},
   "source": [
    "Let's take a look at the last 10 days of data"
   ]
  },
  {
   "cell_type": "code",
   "execution_count": 20,
   "metadata": {},
   "outputs": [
    {
     "data": {
      "text/plain": [
       "Date\n",
       "2022-01-03   2899.83\n",
       "2022-01-04   2887.99\n",
       "2022-01-05   2755.50\n",
       "2022-01-06   2754.95\n",
       "2022-01-07   2740.34\n",
       "2022-01-10   2773.39\n",
       "2022-01-11   2794.72\n",
       "2022-01-12   2828.61\n",
       "2022-01-13   2771.74\n",
       "2022-01-14   2789.61\n",
       "Name: Close, dtype: float64"
      ]
     },
     "execution_count": 20,
     "metadata": {},
     "output_type": "execute_result"
    }
   ],
   "source": [
    "close.tail(10)"
   ]
  },
  {
   "cell_type": "markdown",
   "metadata": {},
   "source": [
    "## Questions"
   ]
  },
  {
   "cell_type": "markdown",
   "metadata": {},
   "source": [
    "Answer these questions without using for loops."
   ]
  },
  {
   "cell_type": "markdown",
   "metadata": {},
   "source": [
    "<b>Question 1</b><br/>What day had the largest stock price and what's the price? "
   ]
  },
  {
   "cell_type": "code",
   "execution_count": 44,
   "metadata": {},
   "outputs": [
    {
     "data": {
      "text/plain": [
       "Date\n",
       "2021-11-18   2996.77\n",
       "Name: Close, dtype: float64"
      ]
     },
     "execution_count": 44,
     "metadata": {},
     "output_type": "execute_result"
    }
   ],
   "source": [
    "close.nlargest(1)"
   ]
  },
  {
   "cell_type": "markdown",
   "metadata": {},
   "source": [
    "<b>Question 2</b><br/>What are the 10 days with largest stock price? Report both the day and the price."
   ]
  },
  {
   "cell_type": "code",
   "execution_count": 46,
   "metadata": {},
   "outputs": [
    {
     "data": {
      "text/plain": [
       "Date\n",
       "2021-11-18   2996.77\n",
       "2021-11-08   2980.62\n",
       "2021-11-19   2978.53\n",
       "2021-11-09   2978.37\n",
       "2021-11-05   2977.04\n",
       "2021-11-12   2973.56\n",
       "2021-11-15   2969.04\n",
       "2021-11-04   2965.35\n",
       "2021-12-08   2963.73\n",
       "2021-11-17   2960.94\n",
       "Name: Close, dtype: float64"
      ]
     },
     "execution_count": 46,
     "metadata": {},
     "output_type": "execute_result"
    }
   ],
   "source": [
    "close.nlargest(10)"
   ]
  },
  {
   "cell_type": "markdown",
   "metadata": {},
   "source": [
    "<b>Question 3</b><br/>How much profit (ratio) would we have made if we had bought at the beginning and sold everything on the last day? Do not type in any date. Try to use multiple methods to get the same answer. "
   ]
  },
  {
   "cell_type": "code",
   "execution_count": 52,
   "metadata": {},
   "outputs": [
    {
     "name": "stdout",
     "output_type": "stream",
     "text": [
      "54.547549623389735\n"
     ]
    }
   ],
   "source": [
    "profit = (close.values[-1] - close.values[0]) / close.values[0]\n",
    "print (profit)"
   ]
  },
  {
   "cell_type": "markdown",
   "metadata": {},
   "source": [
    "<b>Question 4</b><br/>\n",
    "What is the moving average of the price at each trading session? Use a 50-trading-days window. <i>Hint</i>: Explore the method <i>rolling</i>"
   ]
  },
  {
   "cell_type": "code",
   "execution_count": 56,
   "metadata": {},
   "outputs": [
    {
     "name": "stdout",
     "output_type": "stream",
     "text": [
      "Date\n",
      "2004-08-19       NaN\n",
      "2004-08-20       NaN\n",
      "2004-08-23       NaN\n",
      "2004-08-24       NaN\n",
      "2004-08-25       NaN\n",
      "               ...  \n",
      "2022-01-10   2905.54\n",
      "2022-01-11   2902.22\n",
      "2022-01-12   2901.39\n",
      "2022-01-13   2898.66\n",
      "2022-01-14   2895.81\n",
      "Name: Close, Length: 4384, dtype: float64\n"
     ]
    }
   ],
   "source": [
    "movage = close.rolling(50).mean()\n",
    "print(movage)"
   ]
  },
  {
   "cell_type": "markdown",
   "metadata": {},
   "source": [
    "Set the numbers of rows to show in a truncated view to 100 rows"
   ]
  },
  {
   "cell_type": "code",
   "execution_count": 60,
   "metadata": {},
   "outputs": [
    {
     "data": {
      "text/plain": [
       "Date\n",
       "2004-08-19       NaN\n",
       "2004-08-20       NaN\n",
       "2004-08-23       NaN\n",
       "2004-08-24       NaN\n",
       "2004-08-25       NaN\n",
       "2004-08-26       NaN\n",
       "2004-08-27       NaN\n",
       "2004-08-30       NaN\n",
       "2004-08-31       NaN\n",
       "2004-09-01       NaN\n",
       "2004-09-02       NaN\n",
       "2004-09-03       NaN\n",
       "2004-09-07       NaN\n",
       "2004-09-08       NaN\n",
       "2004-09-09       NaN\n",
       "2004-09-10       NaN\n",
       "2004-09-13       NaN\n",
       "2004-09-14       NaN\n",
       "2004-09-15       NaN\n",
       "2004-09-16       NaN\n",
       "2004-09-17       NaN\n",
       "2004-09-20       NaN\n",
       "2004-09-21       NaN\n",
       "2004-09-22       NaN\n",
       "2004-09-23       NaN\n",
       "2004-09-24       NaN\n",
       "2004-09-27       NaN\n",
       "2004-09-28       NaN\n",
       "2004-09-29       NaN\n",
       "2004-09-30       NaN\n",
       "2004-10-01       NaN\n",
       "2004-10-04       NaN\n",
       "2004-10-05       NaN\n",
       "2004-10-06       NaN\n",
       "2004-10-07       NaN\n",
       "2004-10-08       NaN\n",
       "2004-10-11       NaN\n",
       "2004-10-12       NaN\n",
       "2004-10-13       NaN\n",
       "2004-10-14       NaN\n",
       "2004-10-15       NaN\n",
       "2004-10-18       NaN\n",
       "2004-10-19       NaN\n",
       "2004-10-20       NaN\n",
       "2004-10-21       NaN\n",
       "2004-10-22       NaN\n",
       "2004-10-25       NaN\n",
       "2004-10-26       NaN\n",
       "2004-10-27       NaN\n",
       "2004-10-28     63.59\n",
       "               ...  \n",
       "2021-11-04   2826.26\n",
       "2021-11-05   2829.22\n",
       "2021-11-08   2831.23\n",
       "2021-11-09   2832.96\n",
       "2021-11-10   2833.44\n",
       "2021-11-11   2833.66\n",
       "2021-11-12   2835.82\n",
       "2021-11-15   2837.70\n",
       "2021-11-16   2839.14\n",
       "2021-11-17   2840.88\n",
       "2021-11-18   2843.40\n",
       "2021-11-19   2846.62\n",
       "2021-11-22   2848.21\n",
       "2021-11-23   2849.51\n",
       "2021-11-24   2850.18\n",
       "2021-11-26   2849.61\n",
       "2021-11-29   2851.50\n",
       "2021-11-30   2852.78\n",
       "2021-12-01   2853.58\n",
       "2021-12-02   2854.66\n",
       "2021-12-03   2854.97\n",
       "2021-12-06   2855.35\n",
       "2021-12-07   2857.82\n",
       "2021-12-08   2862.77\n",
       "2021-12-09   2868.08\n",
       "2021-12-10   2873.81\n",
       "2021-12-13   2877.53\n",
       "2021-12-14   2881.62\n",
       "2021-12-15   2885.79\n",
       "2021-12-16   2888.54\n",
       "2021-12-17   2889.54\n",
       "2021-12-20   2890.27\n",
       "2021-12-21   2892.10\n",
       "2021-12-22   2896.08\n",
       "2021-12-23   2899.82\n",
       "2021-12-27   2902.52\n",
       "2021-12-28   2904.65\n",
       "2021-12-29   2906.20\n",
       "2021-12-30   2907.38\n",
       "2021-12-31   2908.61\n",
       "2022-01-03   2909.86\n",
       "2022-01-04   2912.59\n",
       "2022-01-05   2912.72\n",
       "2022-01-06   2912.10\n",
       "2022-01-07   2908.42\n",
       "2022-01-10   2905.54\n",
       "2022-01-11   2902.22\n",
       "2022-01-12   2901.39\n",
       "2022-01-13   2898.66\n",
       "2022-01-14   2895.81\n",
       "Name: Close, Length: 4384, dtype: float64"
      ]
     },
     "execution_count": 60,
     "metadata": {},
     "output_type": "execute_result"
    }
   ],
   "source": [
    "pd.set_option('display.max_row', 100)\n",
    "pd.set_option('display.min_row', 100)\n",
    "movage"
   ]
  },
  {
   "cell_type": "markdown",
   "metadata": {},
   "source": [
    "<b>Question 5</b><br/>\n",
    "Consider this investment strategy: buy on day x and then sell after 5 days (on day x+5). Find the expected profit (in %) of this operation. <i>Hint</i>: explore the method <i>shift</i>"
   ]
  },
  {
   "cell_type": "code",
   "execution_count": 80,
   "metadata": {},
   "outputs": [],
   "source": [
    "expect = close.shift(-5)"
   ]
  },
  {
   "cell_type": "markdown",
   "metadata": {},
   "source": [
    "So what exactly profit average means ?  Assuming invest $100 on day 1. "
   ]
  },
  {
   "cell_type": "code",
   "execution_count": 82,
   "metadata": {},
   "outputs": [
    {
     "data": {
      "text/plain": [
       "0.00540424922938213"
      ]
     },
     "execution_count": 82,
     "metadata": {},
     "output_type": "execute_result"
    }
   ],
   "source": [
    "profits = (expect - close) / close\n",
    "profits.mean()"
   ]
  },
  {
   "cell_type": "markdown",
   "metadata": {},
   "source": [
    "To be more precise .."
   ]
  },
  {
   "cell_type": "code",
   "execution_count": 84,
   "metadata": {},
   "outputs": [
    {
     "data": {
      "text/plain": [
       "count   4379.00\n",
       "mean       0.01\n",
       "std        0.04\n",
       "min       -0.18\n",
       "25%       -0.02\n",
       "50%        0.01\n",
       "75%        0.03\n",
       "max        0.32\n",
       "Name: Close, dtype: float64"
      ]
     },
     "execution_count": 84,
     "metadata": {},
     "output_type": "execute_result"
    }
   ],
   "source": [
    "profits.describe()"
   ]
  },
  {
   "cell_type": "markdown",
   "metadata": {},
   "source": [
    "<b>Question 6</b><br/>\n",
    "Consider this investment strategy: buy whenever the price goes above the 20-day moving average, and then sell after 5 trading sessions. How much profit (in %) would we make on average?"
   ]
  },
  {
   "cell_type": "code",
   "execution_count": 96,
   "metadata": {},
   "outputs": [],
   "source": [
    "move = close.rolling(20).mean()\n",
    "condition = close > move"
   ]
  },
  {
   "cell_type": "markdown",
   "metadata": {},
   "source": [
    "With the same $100.00 to start with, we get the profit ..."
   ]
  },
  {
   "cell_type": "code",
   "execution_count": 104,
   "metadata": {},
   "outputs": [
    {
     "data": {
      "text/plain": [
       "0.5656274308927686"
      ]
     },
     "execution_count": 104,
     "metadata": {},
     "output_type": "execute_result"
    }
   ],
   "source": [
    "profits = ((expect - close) / close)[condition]\n",
    "profits.mean() * 100"
   ]
  },
  {
   "cell_type": "markdown",
   "metadata": {},
   "source": [
    "## Median prices of single family homes in zip code 95050"
   ]
  },
  {
   "cell_type": "markdown",
   "metadata": {},
   "source": [
    "The file <i>santaclara_sfh.csv</i> was downloaded from <a href= 'http://zillow.com'>zillow.com</a>. For each end of month day, this file reports the median price of a single family home (sfh) in zip code 95050 over the previous 3 months. The data starts from 2012-01-31 and ends on recent month."
   ]
  },
  {
   "cell_type": "markdown",
   "metadata": {},
   "source": [
    "The following code loads and cleans the data set <i>santaclara_sfh.csv</i>, which you should copy into the same folder as this Jupyter notebook. For the moment, do not worry about understanding the code."
   ]
  },
  {
   "cell_type": "code",
   "execution_count": 106,
   "metadata": {},
   "outputs": [
    {
     "name": "stderr",
     "output_type": "stream",
     "text": [
      "/var/folders/_t/99rhfqy12md_q88dy260m5d80000gn/T/ipykernel_15205/3703199853.py:2: UserWarning: Could not infer format, so each element will be parsed individually, falling back to `dateutil`. To ensure parsing is consistent and as-expected, please specify a format.\n",
      "  df = pd.read_csv('santaclara_sfh.csv', index_col='date', parse_dates=True)\n"
     ]
    }
   ],
   "source": [
    "# don't worry about understanding this code\n",
    "df = pd.read_csv('santaclara_sfh.csv', index_col='date', parse_dates=True)\n",
    "\n",
    "# make the price column of type float\n",
    "df['median_sfh_price_past_3_months'] = df.median_sfh_price_past_3_months + 0.0 \n",
    "\n",
    "# take the series of median prices\n",
    "housing = df['median_sfh_price_past_3_months']\n",
    "housing.name = 'housing'"
   ]
  },
  {
   "cell_type": "markdown",
   "metadata": {},
   "source": [
    "Let's take a look at the oldest prices"
   ]
  },
  {
   "cell_type": "code",
   "execution_count": 110,
   "metadata": {},
   "outputs": [
    {
     "data": {
      "text/plain": [
       "date\n",
       "2012-01-31   485000.00\n",
       "Name: housing, dtype: float64"
      ]
     },
     "execution_count": 110,
     "metadata": {},
     "output_type": "execute_result"
    }
   ],
   "source": [
    "housing.head(1)"
   ]
  },
  {
   "cell_type": "markdown",
   "metadata": {},
   "source": [
    "Remember that each price is the median over the previous three months. So, for example, the median sale price in the period from 2012-02-01 to 2012-04-30 was $620,000. Let's plot it."
   ]
  },
  {
   "cell_type": "code",
   "execution_count": 112,
   "metadata": {},
   "outputs": [
    {
     "data": {
      "text/plain": [
       "<Axes: xlabel='date'>"
      ]
     },
     "execution_count": 112,
     "metadata": {},
     "output_type": "execute_result"
    },
    {
     "data": {
      "image/png": "[encoded data removed]",
      "text/plain": [
       "<Figure size 640x480 with 1 Axes>"
      ]
     },
     "metadata": {},
     "output_type": "display_data"
    }
   ],
   "source": [
    "housing.plot()"
   ]
  },
  {
   "cell_type": "markdown",
   "metadata": {},
   "source": [
    "## Are housing prices correlated to stock prices?"
   ]
  },
  {
   "cell_type": "markdown",
   "metadata": {},
   "source": [
    "<p>To anwer this question, we first need to align the two Series. The Series <i>housing</i> has one entry for each ending day of each month and a value that is the 3-month moving average; the series <i>stock</i> has one entry for each <b>trading day</b> and the value that is the closing price. </p>\n",
    "<p>To align the two Series, we will create a new Series of stock prices that has only one entry for every month-end-day and reports the 3-month moving median price of the stock</p>"
   ]
  },
  {
   "cell_type": "markdown",
   "metadata": {},
   "source": [
    "<p>We will do the following:\n",
    "<ol>\n",
    "<li>Pad <i>stock</i> so that there are no missing days (currently, holidays are missing)\n",
    "<li>Compute the 3-month moving median of <i>stock</i>\n",
    "<li>Retain only the end-of-month days in <i>stock</i>\n",
    "</ol>\n",
    "</p>\n"
   ]
  },
  {
   "cell_type": "markdown",
   "metadata": {},
   "source": [
    "#### Step #1: Pad stock so that there are no missing days (currently, holidays are missing)"
   ]
  },
  {
   "cell_type": "code",
   "execution_count": 119,
   "metadata": {},
   "outputs": [],
   "source": [
    "padded = close.asfreq(freq = '1D', method='ffill')"
   ]
  },
  {
   "cell_type": "markdown",
   "metadata": {},
   "source": [
    "#### Step #2: Compute the 90-day moving median of stock"
   ]
  },
  {
   "cell_type": "code",
   "execution_count": 187,
   "metadata": {},
   "outputs": [
    {
     "data": {
      "text/plain": [
       "Date\n",
       "2004-11-07     NaN\n",
       "2004-11-08     NaN\n",
       "2004-11-09     NaN\n",
       "2004-11-10     NaN\n",
       "2004-11-11     NaN\n",
       "2004-11-12     NaN\n",
       "2004-11-13     NaN\n",
       "2004-11-14     NaN\n",
       "2004-11-15     NaN\n",
       "2004-11-16   66.36\n",
       "2004-11-17   66.98\n",
       "2004-11-18   67.65\n",
       "2004-11-19   68.15\n",
       "2004-11-20   68.69\n",
       "2004-11-21   68.85\n",
       "2004-11-22   68.93\n",
       "2004-11-23   68.93\n",
       "2004-11-24   69.09\n",
       "2004-11-25   69.37\n",
       "2004-11-26   69.90\n",
       "Freq: D, Name: Close, dtype: float64"
      ]
     },
     "execution_count": 187,
     "metadata": {},
     "output_type": "execute_result"
    }
   ],
   "source": [
    "stock = padded.rolling(90).median()\n",
    "stock[80:100]"
   ]
  },
  {
   "cell_type": "markdown",
   "metadata": {},
   "source": [
    "#### Step #3: Retain the same days as in the housing Series"
   ]
  },
  {
   "cell_type": "code",
   "execution_count": 135,
   "metadata": {},
   "outputs": [
    {
     "data": {
      "text/plain": [
       "date\n",
       "2012-01-31          NaN\n",
       "2012-02-29          NaN\n",
       "2012-03-31          NaN\n",
       "2012-04-30          NaN\n",
       "2012-05-31          NaN\n",
       "2012-06-30          NaN\n",
       "2012-07-31          NaN\n",
       "2012-08-31          NaN\n",
       "2012-09-30          NaN\n",
       "2012-10-31          NaN\n",
       "2012-11-30          NaN\n",
       "2012-12-31          NaN\n",
       "2013-01-31          NaN\n",
       "2013-02-28          NaN\n",
       "2013-03-31          NaN\n",
       "2013-04-30          NaN\n",
       "2013-05-31          NaN\n",
       "2013-06-30          NaN\n",
       "2013-07-31          NaN\n",
       "2013-08-31          NaN\n",
       "2013-09-30          NaN\n",
       "2013-10-31          NaN\n",
       "2013-11-30          NaN\n",
       "2013-12-31          NaN\n",
       "2014-01-31          NaN\n",
       "2014-02-28          NaN\n",
       "2014-03-31          NaN\n",
       "2014-04-30          NaN\n",
       "2014-05-31          NaN\n",
       "2014-06-30          NaN\n",
       "2014-07-31          NaN\n",
       "2014-08-31          NaN\n",
       "2014-09-30          NaN\n",
       "2014-10-31          NaN\n",
       "2014-11-30          NaN\n",
       "2014-12-31          NaN\n",
       "2015-01-31          NaN\n",
       "2015-02-28          NaN\n",
       "2015-03-31          NaN\n",
       "2015-04-30          NaN\n",
       "2015-05-31          NaN\n",
       "2015-06-30          NaN\n",
       "2015-07-31          NaN\n",
       "2015-08-31          NaN\n",
       "2015-09-30          NaN\n",
       "2015-10-31          NaN\n",
       "2015-11-30          NaN\n",
       "2015-12-31          NaN\n",
       "2016-01-31          NaN\n",
       "2016-02-29          NaN\n",
       "                ...    \n",
       "2017-11-30          NaN\n",
       "2017-12-31          NaN\n",
       "2018-01-31          NaN\n",
       "2018-02-28          NaN\n",
       "2018-03-31          NaN\n",
       "2018-04-30          NaN\n",
       "2018-05-31          NaN\n",
       "2018-06-30          NaN\n",
       "2018-07-31          NaN\n",
       "2018-08-31          NaN\n",
       "2018-09-30          NaN\n",
       "2018-10-31          NaN\n",
       "2018-11-30          NaN\n",
       "2018-12-31          NaN\n",
       "2019-01-31          NaN\n",
       "2019-02-28          NaN\n",
       "2019-03-31          NaN\n",
       "2019-04-30          NaN\n",
       "2019-05-31          NaN\n",
       "2019-06-30    953500.00\n",
       "2019-07-31    958500.00\n",
       "2019-08-31    960000.00\n",
       "2019-09-30    960000.00\n",
       "2019-10-31    965000.00\n",
       "2019-11-30    970000.00\n",
       "2019-12-31    972500.00\n",
       "2020-01-31    982500.00\n",
       "2020-02-29    993500.00\n",
       "2020-03-31   1003000.00\n",
       "2020-04-30   1022000.00\n",
       "2020-05-31   1037500.00\n",
       "2020-06-30   1042500.00\n",
       "2020-07-31   1051500.00\n",
       "2020-08-31   1069000.00\n",
       "2020-09-30   1081000.00\n",
       "2020-10-31   1091000.00\n",
       "2020-11-30   1115000.00\n",
       "2020-12-31   1140000.00\n",
       "2021-01-31   1150000.00\n",
       "2021-02-28   1151500.00\n",
       "2021-03-31   1154000.00\n",
       "2021-04-30   1156000.00\n",
       "2021-05-31   1158500.00\n",
       "2021-06-30   1160000.00\n",
       "2021-07-31   1160000.00\n",
       "2021-08-31   1175000.00\n",
       "2021-09-30   1192500.00\n",
       "2021-10-31   1197500.00\n",
       "2021-11-30   1200000.00\n",
       "2021-12-31   1210500.00\n",
       "Name: housing, Length: 120, dtype: float64"
      ]
     },
     "execution_count": 135,
     "metadata": {},
     "output_type": "execute_result"
    }
   ],
   "source": [
    "housing.rolling(90).median()"
   ]
  },
  {
   "cell_type": "code",
   "execution_count": 195,
   "metadata": {},
   "outputs": [],
   "source": [
    "mod_stock = stock[housing.index]"
   ]
  },
  {
   "cell_type": "markdown",
   "metadata": {},
   "source": [
    "### Compute correlation"
   ]
  },
  {
   "cell_type": "markdown",
   "metadata": {},
   "source": [
    "Are stock and housing prices correlated?"
   ]
  },
  {
   "cell_type": "code",
   "execution_count": 137,
   "metadata": {},
   "outputs": [
    {
     "data": {
      "text/plain": [
       "0.8738868931677115"
      ]
     },
     "execution_count": 137,
     "metadata": {},
     "output_type": "execute_result"
    }
   ],
   "source": [
    "housing.corr(stock)"
   ]
  },
  {
   "cell_type": "markdown",
   "metadata": {},
   "source": [
    "Uh... yes, they are strongly correlated"
   ]
  },
  {
   "cell_type": "markdown",
   "metadata": {},
   "source": [
    "Let's plot them"
   ]
  },
  {
   "cell_type": "code",
   "execution_count": 189,
   "metadata": {},
   "outputs": [
    {
     "data": {
      "text/plain": [
       "[<matplotlib.lines.Line2D at 0x1274a3d10>]"
      ]
     },
     "execution_count": 189,
     "metadata": {},
     "output_type": "execute_result"
    },
    {
     "data": {
      "text/plain": [
       "[<matplotlib.lines.Line2D at 0x1274bb560>]"
      ]
     },
     "execution_count": 189,
     "metadata": {},
     "output_type": "execute_result"
    },
    {
     "data": {
      "image/png": "[encoded data removed]",
      "text/plain": [
       "<Figure size 640x480 with 1 Axes>"
      ]
     },
     "metadata": {},
     "output_type": "display_data"
    }
   ],
   "source": [
    "import matplotlib.pyplot as plt\n",
    "plt.plot(stock, 'b')\n",
    "plt.plot(housing, 'r')\n",
    "plt.show()"
   ]
  },
  {
   "cell_type": "markdown",
   "metadata": {},
   "source": [
    "mmm... the problem is that the two scales are very different: housing is about 1M dollars while the stock price is in the order of hundreds of dollars. "
   ]
  },
  {
   "cell_type": "markdown",
   "metadata": {},
   "source": [
    "Let's normalize them so that the value on the first day (2012-01-31) is 1 for both series."
   ]
  },
  {
   "cell_type": "code",
   "execution_count": 165,
   "metadata": {},
   "outputs": [],
   "source": [
    "norm = stock / stock.iloc[0]"
   ]
  },
  {
   "cell_type": "code",
   "execution_count": 167,
   "metadata": {},
   "outputs": [],
   "source": [
    "horm = housing / housing.iloc[0]"
   ]
  },
  {
   "cell_type": "code",
   "execution_count": 197,
   "metadata": {},
   "outputs": [
    {
     "name": "stdout",
     "output_type": "stream",
     "text": [
      "date\n",
      "2012-01-31   1.00\n",
      "2012-02-29   1.00\n",
      "2012-03-31   0.99\n",
      "2012-04-30   0.99\n",
      "2012-05-31   0.99\n",
      "2012-06-30   0.97\n",
      "2012-07-31   0.94\n",
      "2012-08-31   0.95\n",
      "2012-09-30   1.08\n",
      "2012-10-31   1.10\n",
      "2012-11-30   1.11\n",
      "2012-12-31   1.11\n",
      "2013-01-31   1.13\n",
      "2013-02-28   1.19\n",
      "2013-03-31   1.27\n",
      "2013-04-30   1.29\n",
      "2013-05-31   1.31\n",
      "2013-06-30   1.40\n",
      "2013-07-31   1.42\n",
      "2013-08-31   1.43\n",
      "2013-09-30   1.43\n",
      "2013-10-31   1.42\n",
      "2013-11-30   1.46\n",
      "2013-12-31   1.66\n",
      "2014-01-31   1.75\n",
      "2014-02-28   1.82\n",
      "2014-03-31   1.89\n",
      "2014-04-30   1.89\n",
      "2014-05-31   1.78\n",
      "2014-06-30   1.77\n",
      "2014-07-31   1.84\n",
      "2014-08-31   1.88\n",
      "2014-09-30   1.90\n",
      "2014-10-31   1.88\n",
      "2014-11-30   1.80\n",
      "2014-12-31   1.76\n",
      "2015-01-31   1.73\n",
      "2015-02-28   1.71\n",
      "2015-03-31   1.75\n",
      "2015-04-30   1.77\n",
      "2015-05-31   1.78\n",
      "2015-06-30   1.77\n",
      "2015-07-31   1.78\n",
      "2015-08-31   1.98\n",
      "2015-09-30   2.11\n",
      "2015-10-31   2.14\n",
      "2015-11-30   2.20\n",
      "2015-12-31   2.44\n",
      "2016-01-31   2.45\n",
      "2016-02-29   2.40\n",
      "             ... \n",
      "2017-11-30   3.24\n",
      "2017-12-31   3.36\n",
      "2018-01-31   3.41\n",
      "2018-02-28   3.52\n",
      "2018-03-31   3.58\n",
      "2018-04-30   3.47\n",
      "2018-05-31   3.45\n",
      "2018-06-30   3.49\n",
      "2018-07-31   3.67\n",
      "2018-08-31   3.87\n",
      "2018-09-30   3.90\n",
      "2018-10-31   3.82\n",
      "2018-11-30   3.58\n",
      "2018-12-31   3.45\n",
      "2019-01-31   3.43\n",
      "2019-02-28   3.49\n",
      "2019-03-31   3.61\n",
      "2019-04-30   3.81\n",
      "2019-05-31   3.83\n",
      "2019-06-30   3.76\n",
      "2019-07-31   3.65\n",
      "2019-08-31   3.69\n",
      "2019-09-30   3.83\n",
      "2019-10-31   3.90\n",
      "2019-11-30   4.01\n",
      "2019-12-31   4.20\n",
      "2020-01-31   4.34\n",
      "2020-02-29   4.59\n",
      "2020-03-31   4.59\n",
      "2020-04-30   4.11\n",
      "2020-05-31   4.11\n",
      "2020-06-30   4.43\n",
      "2020-07-31   4.62\n",
      "2020-08-31   4.83\n",
      "2020-09-30   4.88\n",
      "2020-10-31   4.88\n",
      "2020-11-30   5.07\n",
      "2020-12-31   5.59\n",
      "2021-01-31   5.67\n",
      "2021-02-28   5.86\n",
      "2021-03-31   6.53\n",
      "2021-04-30   6.73\n",
      "2021-05-31   7.31\n",
      "2021-06-30   7.57\n",
      "2021-07-31   7.83\n",
      "2021-08-31   8.18\n",
      "2021-09-30   8.82\n",
      "2021-10-31   9.05\n",
      "2021-11-30   9.16\n",
      "2021-12-31   9.38\n",
      "Name: Close, Length: 120, dtype: float64\n"
     ]
    },
    {
     "name": "stderr",
     "output_type": "stream",
     "text": [
      "/var/folders/_t/99rhfqy12md_q88dy260m5d80000gn/T/ipykernel_15205/3501319105.py:1: FutureWarning: Series.__getitem__ treating keys as positions is deprecated. In a future version, integer keys will always be treated as labels (consistent with DataFrame behavior). To access a value by position, use `ser.iloc[pos]`\n",
      "  print(mod_stock / mod_stock[0])  # 检查是否有 NaN 或者全是 1\n"
     ]
    }
   ],
   "source": [
    "print(mod_stock / mod_stock[0])  # 检查是否有 NaN 或者全是 1"
   ]
  },
  {
   "cell_type": "markdown",
   "metadata": {},
   "source": [
    "Plot the normalized data again"
   ]
  },
  {
   "cell_type": "code",
   "execution_count": 201,
   "metadata": {},
   "outputs": [
    {
     "name": "stderr",
     "output_type": "stream",
     "text": [
      "/var/folders/_t/99rhfqy12md_q88dy260m5d80000gn/T/ipykernel_15205/1838997220.py:1: FutureWarning: Series.__getitem__ treating keys as positions is deprecated. In a future version, integer keys will always be treated as labels (consistent with DataFrame behavior). To access a value by position, use `ser.iloc[pos]`\n",
      "  plt.plot((mod_stock / mod_stock[0]), 'b', label=\"Stock\")\n"
     ]
    },
    {
     "data": {
      "text/plain": [
       "[<matplotlib.lines.Line2D at 0x12753a870>]"
      ]
     },
     "execution_count": 201,
     "metadata": {},
     "output_type": "execute_result"
    },
    {
     "data": {
      "text/plain": [
       "[<matplotlib.lines.Line2D at 0x127643a40>]"
      ]
     },
     "execution_count": 201,
     "metadata": {},
     "output_type": "execute_result"
    },
    {
     "data": {
      "text/plain": [
       "<matplotlib.legend.Legend at 0x12753aed0>"
      ]
     },
     "execution_count": 201,
     "metadata": {},
     "output_type": "execute_result"
    },
    {
     "data": {
      "image/png": "[encoded data removed]",
      "text/plain": [
       "<Figure size 640x480 with 1 Axes>"
      ]
     },
     "metadata": {},
     "output_type": "display_data"
    }
   ],
   "source": [
    "plt.plot((mod_stock / mod_stock[0]), 'b', label=\"Stock\")\n",
    "plt.plot((housing / housing.iloc[0]), 'r', label=\"Housing\")\n",
    "plt.legend()\n",
    "plt.show()"
   ]
  },
  {
   "cell_type": "markdown",
   "metadata": {},
   "source": [
    "Assign proper legends for different lines"
   ]
  },
  {
   "cell_type": "code",
   "execution_count": null,
   "metadata": {},
   "outputs": [],
   "source": []
  }
 ],
 "metadata": {
  "kernelspec": {
   "display_name": "Python 3 (ipykernel)",
   "language": "python",
   "name": "python3"
  },
  "language_info": {
   "codemirror_mode": {
    "name": "ipython",
    "version": 3
   },
   "file_extension": ".py",
   "mimetype": "text/x-python",
   "name": "python",
   "nbconvert_exporter": "python",
   "pygments_lexer": "ipython3",
   "version": "3.12.4"
  }
 },
 "nbformat": 4,
 "nbformat_minor": 4
}
