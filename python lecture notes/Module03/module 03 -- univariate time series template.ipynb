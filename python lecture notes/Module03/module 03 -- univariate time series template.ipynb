{
 "cells": [
  {
   "cell_type": "markdown",
   "metadata": {},
   "source": [
    "# Univariate Time Series"
   ]
  },
  {
   "cell_type": "markdown",
   "metadata": {},
   "source": [
    "<b>Definition</b> from <a href='https://onlinecourses.science.psu.edu/stat510/node/47'>here</a>: <i>a sequence of measurements of the same variable collected over time</i>. Examples: stock prices, demand, housing prices."
   ]
  },
  {
   "cell_type": "markdown",
   "metadata": {},
   "source": [
    "In pandas a univariate time series is a Series object where the index is a \"timestamp\"."
   ]
  },
  {
   "cell_type": "markdown",
   "metadata": {},
   "source": [
    "## Stock prices"
   ]
  },
  {
   "cell_type": "markdown",
   "metadata": {},
   "source": [
    "Our goal is to create a Series object <i>stock</i> with the Google stock closing price."
   ]
  },
  {
   "cell_type": "markdown",
   "metadata": {},
   "source": [
    "<b>Stock History info:</b> You can get the Google stock historical price data from https://finance.yahoo.com/quote/GOOGL/history?p=GOOGL\n",
    "In 'Historical Data' tab, set the 'Time Period' to Max, then 'Apply', then 'Download Data'. A .csv file will be downloaded into your local computer. Rename the file to **GOOGL.csv**"
   ]
  },
  {
   "cell_type": "code",
   "execution_count": 2,
   "metadata": {},
   "outputs": [],
   "source": [
    "# print all the outputs in a cell\n",
    "from IPython.core.interactiveshell import InteractiveShell\n",
    "InteractiveShell.ast_node_interactivity = \"all\""
   ]
  },
  {
   "cell_type": "markdown",
   "metadata": {},
   "source": [
    "The following code creates a Series object <i>stock</i> based on GOOGL.csv file. Index is the date and the variable is the Google stock closing prices. "
   ]
  },
  {
   "cell_type": "code",
   "execution_count": 5,
   "metadata": {},
   "outputs": [],
   "source": [
    "# import the two packages that we sill use in this script\n",
    "import pandas as pd\n",
    "import numpy as np"
   ]
  },
  {
   "cell_type": "code",
   "execution_count": 7,
   "metadata": {},
   "outputs": [],
   "source": [
    "# Use read_csv to read data\n",
    "data = pd.read_csv('GOOGL.csv',index_col=0, parse_dates=True)\n",
    "#or use the following two lines\n",
    "#data = pd.read_csv('GOOGL.csv',index_col=0)\n",
    "#data.index = data.index.astype('datetime64[ns]') #ns: nano second-based time format"
   ]
  },
  {
   "cell_type": "code",
   "execution_count": 9,
   "metadata": {},
   "outputs": [
    {
     "data": {
      "text/html": [
       "<div>\n",
       "<style scoped>\n",
       "    .dataframe tbody tr th:only-of-type {\n",
       "        vertical-align: middle;\n",
       "    }\n",
       "\n",
       "    .dataframe tbody tr th {\n",
       "        vertical-align: top;\n",
       "    }\n",
       "\n",
       "    .dataframe thead th {\n",
       "        text-align: right;\n",
       "    }\n",
       "</style>\n",
       "<table border=\"1\" class=\"dataframe\">\n",
       "  <thead>\n",
       "    <tr style=\"text-align: right;\">\n",
       "      <th></th>\n",
       "      <th>Open</th>\n",
       "      <th>High</th>\n",
       "      <th>Low</th>\n",
       "      <th>Close</th>\n",
       "      <th>Adj Close</th>\n",
       "      <th>Volume</th>\n",
       "    </tr>\n",
       "    <tr>\n",
       "      <th>Date</th>\n",
       "      <th></th>\n",
       "      <th></th>\n",
       "      <th></th>\n",
       "      <th></th>\n",
       "      <th></th>\n",
       "      <th></th>\n",
       "    </tr>\n",
       "  </thead>\n",
       "  <tbody>\n",
       "    <tr>\n",
       "      <th>2004-08-19</th>\n",
       "      <td>50.050049</td>\n",
       "      <td>52.082081</td>\n",
       "      <td>48.028027</td>\n",
       "      <td>50.220219</td>\n",
       "      <td>50.220219</td>\n",
       "      <td>44659096</td>\n",
       "    </tr>\n",
       "    <tr>\n",
       "      <th>2004-08-20</th>\n",
       "      <td>50.555557</td>\n",
       "      <td>54.594597</td>\n",
       "      <td>50.300301</td>\n",
       "      <td>54.209209</td>\n",
       "      <td>54.209209</td>\n",
       "      <td>22834343</td>\n",
       "    </tr>\n",
       "    <tr>\n",
       "      <th>2004-08-23</th>\n",
       "      <td>55.430431</td>\n",
       "      <td>56.796799</td>\n",
       "      <td>54.579578</td>\n",
       "      <td>54.754753</td>\n",
       "      <td>54.754753</td>\n",
       "      <td>18256126</td>\n",
       "    </tr>\n",
       "    <tr>\n",
       "      <th>2004-08-24</th>\n",
       "      <td>55.675674</td>\n",
       "      <td>55.855858</td>\n",
       "      <td>51.836838</td>\n",
       "      <td>52.487488</td>\n",
       "      <td>52.487488</td>\n",
       "      <td>15247337</td>\n",
       "    </tr>\n",
       "    <tr>\n",
       "      <th>2004-08-25</th>\n",
       "      <td>52.532532</td>\n",
       "      <td>54.054054</td>\n",
       "      <td>51.991993</td>\n",
       "      <td>53.053055</td>\n",
       "      <td>53.053055</td>\n",
       "      <td>9188602</td>\n",
       "    </tr>\n",
       "    <tr>\n",
       "      <th>...</th>\n",
       "      <td>...</td>\n",
       "      <td>...</td>\n",
       "      <td>...</td>\n",
       "      <td>...</td>\n",
       "      <td>...</td>\n",
       "      <td>...</td>\n",
       "    </tr>\n",
       "    <tr>\n",
       "      <th>2022-01-10</th>\n",
       "      <td>2701.560059</td>\n",
       "      <td>2776.389893</td>\n",
       "      <td>2663.290039</td>\n",
       "      <td>2773.389893</td>\n",
       "      <td>2773.389893</td>\n",
       "      <td>2220400</td>\n",
       "    </tr>\n",
       "    <tr>\n",
       "      <th>2022-01-11</th>\n",
       "      <td>2760.139893</td>\n",
       "      <td>2804.320068</td>\n",
       "      <td>2733.850098</td>\n",
       "      <td>2794.719971</td>\n",
       "      <td>2794.719971</td>\n",
       "      <td>1436500</td>\n",
       "    </tr>\n",
       "    <tr>\n",
       "      <th>2022-01-12</th>\n",
       "      <td>2823.000000</td>\n",
       "      <td>2852.159912</td>\n",
       "      <td>2813.889893</td>\n",
       "      <td>2828.610107</td>\n",
       "      <td>2828.610107</td>\n",
       "      <td>1305400</td>\n",
       "    </tr>\n",
       "    <tr>\n",
       "      <th>2022-01-13</th>\n",
       "      <td>2830.800049</td>\n",
       "      <td>2857.000000</td>\n",
       "      <td>2768.179932</td>\n",
       "      <td>2771.739990</td>\n",
       "      <td>2771.739990</td>\n",
       "      <td>1571800</td>\n",
       "    </tr>\n",
       "    <tr>\n",
       "      <th>2022-01-14</th>\n",
       "      <td>2741.580078</td>\n",
       "      <td>2814.840088</td>\n",
       "      <td>2739.969971</td>\n",
       "      <td>2789.610107</td>\n",
       "      <td>2789.610107</td>\n",
       "      <td>1482100</td>\n",
       "    </tr>\n",
       "  </tbody>\n",
       "</table>\n",
       "<p>4384 rows × 6 columns</p>\n",
       "</div>"
      ],
      "text/plain": [
       "                   Open         High          Low        Close    Adj Close  \\\n",
       "Date                                                                          \n",
       "2004-08-19    50.050049    52.082081    48.028027    50.220219    50.220219   \n",
       "2004-08-20    50.555557    54.594597    50.300301    54.209209    54.209209   \n",
       "2004-08-23    55.430431    56.796799    54.579578    54.754753    54.754753   \n",
       "2004-08-24    55.675674    55.855858    51.836838    52.487488    52.487488   \n",
       "2004-08-25    52.532532    54.054054    51.991993    53.053055    53.053055   \n",
       "...                 ...          ...          ...          ...          ...   \n",
       "2022-01-10  2701.560059  2776.389893  2663.290039  2773.389893  2773.389893   \n",
       "2022-01-11  2760.139893  2804.320068  2733.850098  2794.719971  2794.719971   \n",
       "2022-01-12  2823.000000  2852.159912  2813.889893  2828.610107  2828.610107   \n",
       "2022-01-13  2830.800049  2857.000000  2768.179932  2771.739990  2771.739990   \n",
       "2022-01-14  2741.580078  2814.840088  2739.969971  2789.610107  2789.610107   \n",
       "\n",
       "              Volume  \n",
       "Date                  \n",
       "2004-08-19  44659096  \n",
       "2004-08-20  22834343  \n",
       "2004-08-23  18256126  \n",
       "2004-08-24  15247337  \n",
       "2004-08-25   9188602  \n",
       "...              ...  \n",
       "2022-01-10   2220400  \n",
       "2022-01-11   1436500  \n",
       "2022-01-12   1305400  \n",
       "2022-01-13   1571800  \n",
       "2022-01-14   1482100  \n",
       "\n",
       "[4384 rows x 6 columns]"
      ]
     },
     "execution_count": 9,
     "metadata": {},
     "output_type": "execute_result"
    }
   ],
   "source": [
    "data"
   ]
  },
  {
   "cell_type": "code",
   "execution_count": 11,
   "metadata": {},
   "outputs": [],
   "source": [
    "#Set to 2 decimal places, and display all columns\n",
    "# Use set_option function\n",
    "\n",
    "# % denotes the variable\n",
    "# %f indicates that it is a float\n",
    "# .2 states that you want two digits\n",
    "# The outer % denotes the variable you want to replace the inner % with\n",
    "\n",
    "pd.set_option('display.float_format', lambda x: '%.2f' % x)"
   ]
  },
  {
   "cell_type": "code",
   "execution_count": 13,
   "metadata": {},
   "outputs": [
    {
     "data": {
      "text/html": [
       "<div>\n",
       "<style scoped>\n",
       "    .dataframe tbody tr th:only-of-type {\n",
       "        vertical-align: middle;\n",
       "    }\n",
       "\n",
       "    .dataframe tbody tr th {\n",
       "        vertical-align: top;\n",
       "    }\n",
       "\n",
       "    .dataframe thead th {\n",
       "        text-align: right;\n",
       "    }\n",
       "</style>\n",
       "<table border=\"1\" class=\"dataframe\">\n",
       "  <thead>\n",
       "    <tr style=\"text-align: right;\">\n",
       "      <th></th>\n",
       "      <th>Open</th>\n",
       "      <th>High</th>\n",
       "      <th>Low</th>\n",
       "      <th>Close</th>\n",
       "      <th>Adj Close</th>\n",
       "      <th>Volume</th>\n",
       "    </tr>\n",
       "    <tr>\n",
       "      <th>Date</th>\n",
       "      <th></th>\n",
       "      <th></th>\n",
       "      <th></th>\n",
       "      <th></th>\n",
       "      <th></th>\n",
       "      <th></th>\n",
       "    </tr>\n",
       "  </thead>\n",
       "  <tbody>\n",
       "    <tr>\n",
       "      <th>2004-08-19</th>\n",
       "      <td>50.05</td>\n",
       "      <td>52.08</td>\n",
       "      <td>48.03</td>\n",
       "      <td>50.22</td>\n",
       "      <td>50.22</td>\n",
       "      <td>44659096</td>\n",
       "    </tr>\n",
       "    <tr>\n",
       "      <th>2004-08-20</th>\n",
       "      <td>50.56</td>\n",
       "      <td>54.59</td>\n",
       "      <td>50.30</td>\n",
       "      <td>54.21</td>\n",
       "      <td>54.21</td>\n",
       "      <td>22834343</td>\n",
       "    </tr>\n",
       "    <tr>\n",
       "      <th>2004-08-23</th>\n",
       "      <td>55.43</td>\n",
       "      <td>56.80</td>\n",
       "      <td>54.58</td>\n",
       "      <td>54.75</td>\n",
       "      <td>54.75</td>\n",
       "      <td>18256126</td>\n",
       "    </tr>\n",
       "    <tr>\n",
       "      <th>2004-08-24</th>\n",
       "      <td>55.68</td>\n",
       "      <td>55.86</td>\n",
       "      <td>51.84</td>\n",
       "      <td>52.49</td>\n",
       "      <td>52.49</td>\n",
       "      <td>15247337</td>\n",
       "    </tr>\n",
       "    <tr>\n",
       "      <th>2004-08-25</th>\n",
       "      <td>52.53</td>\n",
       "      <td>54.05</td>\n",
       "      <td>51.99</td>\n",
       "      <td>53.05</td>\n",
       "      <td>53.05</td>\n",
       "      <td>9188602</td>\n",
       "    </tr>\n",
       "  </tbody>\n",
       "</table>\n",
       "</div>"
      ],
      "text/plain": [
       "            Open  High   Low  Close  Adj Close    Volume\n",
       "Date                                                    \n",
       "2004-08-19 50.05 52.08 48.03  50.22      50.22  44659096\n",
       "2004-08-20 50.56 54.59 50.30  54.21      54.21  22834343\n",
       "2004-08-23 55.43 56.80 54.58  54.75      54.75  18256126\n",
       "2004-08-24 55.68 55.86 51.84  52.49      52.49  15247337\n",
       "2004-08-25 52.53 54.05 51.99  53.05      53.05   9188602"
      ]
     },
     "execution_count": 13,
     "metadata": {},
     "output_type": "execute_result"
    }
   ],
   "source": [
    "data.head()"
   ]
  },
  {
   "cell_type": "markdown",
   "metadata": {},
   "source": [
    "### Create an univariate time series based on stock closing price"
   ]
  },
  {
   "cell_type": "code",
   "execution_count": 16,
   "metadata": {},
   "outputs": [],
   "source": [
    "# Get stock closing price from 'Close' column and save it to stock variable\n",
    "stock = data['Close']"
   ]
  },
  {
   "cell_type": "code",
   "execution_count": 18,
   "metadata": {},
   "outputs": [
    {
     "data": {
      "text/plain": [
       "Date\n",
       "2004-08-19     50.22\n",
       "2004-08-20     54.21\n",
       "2004-08-23     54.75\n",
       "2004-08-24     52.49\n",
       "2004-08-25     53.05\n",
       "               ...  \n",
       "2022-01-10   2773.39\n",
       "2022-01-11   2794.72\n",
       "2022-01-12   2828.61\n",
       "2022-01-13   2771.74\n",
       "2022-01-14   2789.61\n",
       "Name: Close, Length: 4384, dtype: float64"
      ]
     },
     "execution_count": 18,
     "metadata": {},
     "output_type": "execute_result"
    }
   ],
   "source": [
    "stock"
   ]
  },
  {
   "cell_type": "code",
   "execution_count": 20,
   "metadata": {},
   "outputs": [
    {
     "data": {
      "text/plain": [
       "count   4384.00\n",
       "mean     671.72\n",
       "std      614.44\n",
       "min       50.06\n",
       "25%      246.90\n",
       "50%      423.58\n",
       "75%      977.08\n",
       "max     2996.77\n",
       "Name: Close, dtype: float64"
      ]
     },
     "execution_count": 20,
     "metadata": {},
     "output_type": "execute_result"
    }
   ],
   "source": [
    "# Use describe function to get the statistical description of stock\n",
    "stock.describe()"
   ]
  },
  {
   "cell_type": "code",
   "execution_count": 22,
   "metadata": {
    "scrolled": true
   },
   "outputs": [
    {
     "data": {
      "text/plain": [
       "DatetimeIndex(['2004-08-19', '2004-08-20', '2004-08-23', '2004-08-24',\n",
       "               '2004-08-25', '2004-08-26', '2004-08-27', '2004-08-30',\n",
       "               '2004-08-31', '2004-09-01',\n",
       "               ...\n",
       "               '2022-01-03', '2022-01-04', '2022-01-05', '2022-01-06',\n",
       "               '2022-01-07', '2022-01-10', '2022-01-11', '2022-01-12',\n",
       "               '2022-01-13', '2022-01-14'],\n",
       "              dtype='datetime64[ns]', name='Date', length=4384, freq=None)"
      ]
     },
     "execution_count": 22,
     "metadata": {},
     "output_type": "execute_result"
    }
   ],
   "source": [
    "# Get index object of stock\n",
    "stock.index"
   ]
  },
  {
   "cell_type": "code",
   "execution_count": 24,
   "metadata": {},
   "outputs": [
    {
     "data": {
      "text/plain": [
       "<NumpyExtensionArray>\n",
       "[  50.220219,   54.209209,   54.754753,   52.487488,   53.053055,    54.00901,\n",
       "   53.128128,   51.056057,   51.236237,   50.175175,\n",
       " ...\n",
       " 2899.830078,  2887.98999,      2755.5, 2754.949951, 2740.340088, 2773.389893,\n",
       " 2794.719971, 2828.610107,  2771.73999, 2789.610107]\n",
       "Length: 4384, dtype: float64"
      ]
     },
     "execution_count": 24,
     "metadata": {},
     "output_type": "execute_result"
    }
   ],
   "source": [
    "# Get value array of stock\n",
    "stock.array"
   ]
  },
  {
   "cell_type": "markdown",
   "metadata": {},
   "source": [
    "The following command will plot the stock price"
   ]
  },
  {
   "cell_type": "code",
   "execution_count": 27,
   "metadata": {},
   "outputs": [
    {
     "data": {
      "text/plain": [
       "<Axes: xlabel='Date'>"
      ]
     },
     "execution_count": 27,
     "metadata": {},
     "output_type": "execute_result"
    },
    {
     "data": {
      "image/png": "[encoded data removed]",
      "text/plain": [
       "<Figure size 640x480 with 1 Axes>"
      ]
     },
     "metadata": {},
     "output_type": "display_data"
    }
   ],
   "source": [
    "# Polt the line chart\n",
    "stock.plot()"
   ]
  },
  {
   "cell_type": "markdown",
   "metadata": {},
   "source": [
    "## Exploring a Time Series"
   ]
  },
  {
   "cell_type": "markdown",
   "metadata": {},
   "source": [
    "This Series object has one entry for each trading day. The index (of type <i>datetime64</i>) is the day and the value (of type <i>float64</i>) is the closing price."
   ]
  },
  {
   "cell_type": "markdown",
   "metadata": {},
   "source": [
    "Let's take a look at the first 10 days of data"
   ]
  },
  {
   "cell_type": "code",
   "execution_count": 32,
   "metadata": {},
   "outputs": [
    {
     "data": {
      "text/plain": [
       "Date\n",
       "2004-08-19   50.22\n",
       "2004-08-20   54.21\n",
       "2004-08-23   54.75\n",
       "2004-08-24   52.49\n",
       "2004-08-25   53.05\n",
       "2004-08-26   54.01\n",
       "2004-08-27   53.13\n",
       "2004-08-30   51.06\n",
       "2004-08-31   51.24\n",
       "2004-09-01   50.18\n",
       "Name: Close, dtype: float64"
      ]
     },
     "execution_count": 32,
     "metadata": {},
     "output_type": "execute_result"
    }
   ],
   "source": [
    "# Get first 10 elemesnts in stock\n",
    "stock.head(10)"
   ]
  },
  {
   "cell_type": "markdown",
   "metadata": {},
   "source": [
    "Let's take a look at the last 10 days of data"
   ]
  },
  {
   "cell_type": "code",
   "execution_count": 35,
   "metadata": {},
   "outputs": [
    {
     "data": {
      "text/plain": [
       "Date\n",
       "2022-01-03   2899.83\n",
       "2022-01-04   2887.99\n",
       "2022-01-05   2755.50\n",
       "2022-01-06   2754.95\n",
       "2022-01-07   2740.34\n",
       "2022-01-10   2773.39\n",
       "2022-01-11   2794.72\n",
       "2022-01-12   2828.61\n",
       "2022-01-13   2771.74\n",
       "2022-01-14   2789.61\n",
       "Name: Close, dtype: float64"
      ]
     },
     "execution_count": 35,
     "metadata": {},
     "output_type": "execute_result"
    }
   ],
   "source": [
    "# Get last 10 elemesnts in stock\n",
    "stock.tail(10)"
   ]
  },
  {
   "cell_type": "code",
   "execution_count": 37,
   "metadata": {},
   "outputs": [
    {
     "data": {
      "text/plain": [
       "DatetimeIndex(['2004-08-19', '2004-08-20', '2004-08-23', '2004-08-24',\n",
       "               '2004-08-25', '2004-08-26', '2004-08-27', '2004-08-30',\n",
       "               '2004-08-31', '2004-09-01'],\n",
       "              dtype='datetime64[ns]', name='Date', freq=None)"
      ]
     },
     "execution_count": 37,
     "metadata": {},
     "output_type": "execute_result"
    }
   ],
   "source": [
    "#Use .index[] to to get top 10 elemesnts in stock\n",
    "stock.index[:10]"
   ]
  },
  {
   "cell_type": "code",
   "execution_count": 39,
   "metadata": {},
   "outputs": [
    {
     "data": {
      "text/plain": [
       "4384"
      ]
     },
     "execution_count": 39,
     "metadata": {},
     "output_type": "execute_result"
    }
   ],
   "source": [
    "# Check the length of stock\n",
    "len(stock)"
   ]
  },
  {
   "cell_type": "markdown",
   "metadata": {},
   "source": [
    "## Questions"
   ]
  },
  {
   "cell_type": "markdown",
   "metadata": {},
   "source": [
    "Answer these questions without using for loops."
   ]
  },
  {
   "cell_type": "markdown",
   "metadata": {},
   "source": [
    "<b>Question 1</b><br/>What day had the largest stock price and what's the price? "
   ]
  },
  {
   "cell_type": "code",
   "execution_count": 44,
   "metadata": {},
   "outputs": [
    {
     "data": {
      "text/plain": [
       "Date\n",
       "2021-11-18   2996.77\n",
       "Name: Close, dtype: float64"
      ]
     },
     "execution_count": 44,
     "metadata": {},
     "output_type": "execute_result"
    }
   ],
   "source": [
    "# Use nlargest function to get 1 largest values from stock\n",
    "stock.nlargest(1)\n"
   ]
  },
  {
   "cell_type": "markdown",
   "metadata": {},
   "source": [
    "<b>Question 2</b><br/>What are the 10 days with largest stock price? Report both the day and the price."
   ]
  },
  {
   "cell_type": "code",
   "execution_count": 47,
   "metadata": {},
   "outputs": [
    {
     "data": {
      "text/plain": [
       "Date\n",
       "2021-11-18   2996.77\n",
       "2021-11-08   2980.62\n",
       "2021-11-19   2978.53\n",
       "2021-11-09   2978.37\n",
       "2021-11-05   2977.04\n",
       "2021-11-12   2973.56\n",
       "2021-11-15   2969.04\n",
       "2021-11-04   2965.35\n",
       "2021-12-08   2963.73\n",
       "2021-11-17   2960.94\n",
       "Name: Close, dtype: float64"
      ]
     },
     "execution_count": 47,
     "metadata": {},
     "output_type": "execute_result"
    }
   ],
   "source": [
    "# Use nlargest function to get 10 largest values from stock\n",
    "stock.nlargest(10)"
   ]
  },
  {
   "cell_type": "markdown",
   "metadata": {},
   "source": [
    "<b>Question 3</b><br/>How much profit (ratio) would we have made if we had bought at the beginning and sold everything on the last day? Do not type in any date."
   ]
  },
  {
   "cell_type": "code",
   "execution_count": 50,
   "metadata": {},
   "outputs": [
    {
     "data": {
      "text/plain": [
       "50.220219"
      ]
     },
     "execution_count": 50,
     "metadata": {},
     "output_type": "execute_result"
    }
   ],
   "source": [
    "stock.values[0]"
   ]
  },
  {
   "cell_type": "code",
   "execution_count": 52,
   "metadata": {},
   "outputs": [
    {
     "data": {
      "text/plain": [
       "54.547549623389735"
      ]
     },
     "execution_count": 52,
     "metadata": {},
     "output_type": "execute_result"
    }
   ],
   "source": [
    "# get the first value counting from \"right\" - get the first value counting from \"left\" \n",
    "# / the first value counting from \"left\"\n",
    "(stock.values[-1] - stock.values[0] ) / stock.values[0]"
   ]
  },
  {
   "cell_type": "markdown",
   "metadata": {},
   "source": [
    "Or ..."
   ]
  },
  {
   "cell_type": "code",
   "execution_count": 55,
   "metadata": {},
   "outputs": [
    {
     "data": {
      "text/plain": [
       "54.547549623389735"
      ]
     },
     "execution_count": 55,
     "metadata": {},
     "output_type": "execute_result"
    }
   ],
   "source": [
    "(stock.iloc[-1] - stock.iloc[0]) / stock.iloc[0]"
   ]
  },
  {
   "cell_type": "markdown",
   "metadata": {},
   "source": [
    "<b>Question 4</b><br/>\n",
    "What is the moving average of the price at each trading session? Use a 50-trading-days window. <i>Hint</i>: Explore the method <i>rolling</i>"
   ]
  },
  {
   "cell_type": "code",
   "execution_count": 58,
   "metadata": {},
   "outputs": [],
   "source": [
    "# Pandas dataframe.rolling() function provides the feature of rolling window calculations. \n",
    "# The concept of rolling window calculation is most primarily used in signal processing and time-series data. \n",
    "# In very simple words we take a window size of k at a time and perform some desired mathematical operation on it. \n",
    "rol = stock.rolling(50)"
   ]
  },
  {
   "cell_type": "code",
   "execution_count": 60,
   "metadata": {},
   "outputs": [
    {
     "data": {
      "text/plain": [
       "Rolling [window=50,center=False,axis=0,method=single]"
      ]
     },
     "execution_count": 60,
     "metadata": {},
     "output_type": "execute_result"
    }
   ],
   "source": [
    "rol"
   ]
  },
  {
   "cell_type": "code",
   "execution_count": 62,
   "metadata": {},
   "outputs": [
    {
     "data": {
      "text/plain": [
       "pandas.core.window.rolling.Rolling"
      ]
     },
     "execution_count": 62,
     "metadata": {},
     "output_type": "execute_result"
    }
   ],
   "source": [
    "# check rol type\n",
    "type(rol)"
   ]
  },
  {
   "cell_type": "code",
   "execution_count": 64,
   "metadata": {},
   "outputs": [
    {
     "data": {
      "text/plain": [
       "63.58698696"
      ]
     },
     "execution_count": 64,
     "metadata": {},
     "output_type": "execute_result"
    }
   ],
   "source": [
    "# Get the mean of 0 to 49th in stock\n",
    "stock[0:50].mean()"
   ]
  },
  {
   "cell_type": "code",
   "execution_count": 66,
   "metadata": {},
   "outputs": [
    {
     "data": {
      "text/plain": [
       "Date\n",
       "2004-08-19       NaN\n",
       "2004-08-20       NaN\n",
       "2004-08-23       NaN\n",
       "2004-08-24       NaN\n",
       "2004-08-25       NaN\n",
       "               ...  \n",
       "2022-01-10   2905.54\n",
       "2022-01-11   2902.22\n",
       "2022-01-12   2901.39\n",
       "2022-01-13   2898.66\n",
       "2022-01-14   2895.81\n",
       "Name: Close, Length: 4384, dtype: float64"
      ]
     },
     "execution_count": 66,
     "metadata": {},
     "output_type": "execute_result"
    }
   ],
   "source": [
    "# get mean from all windows in rol\n",
    "rol.mean()"
   ]
  },
  {
   "cell_type": "markdown",
   "metadata": {},
   "source": [
    "Set the numbers of rows to show in a truncated view to 100 rows"
   ]
  },
  {
   "cell_type": "code",
   "execution_count": 69,
   "metadata": {},
   "outputs": [],
   "source": [
    "# All rows will display if total rows <= display.max_rows \n",
    "# Once the display.max_rows is exceeded, the display.min_rows options determines how many rows are shown\n",
    "pd.set_option('display.max_rows', 100)\n",
    "pd.set_option('display.min_rows', 100)"
   ]
  },
  {
   "cell_type": "markdown",
   "metadata": {},
   "source": [
    "If want to set unlimited number of rows(all rows), then use the following  "
   ]
  },
  {
   "cell_type": "code",
   "execution_count": 72,
   "metadata": {},
   "outputs": [],
   "source": [
    "#pd.set_option('display.max_rows', None)"
   ]
  },
  {
   "cell_type": "code",
   "execution_count": 74,
   "metadata": {},
   "outputs": [
    {
     "data": {
      "text/plain": [
       "Date\n",
       "2004-08-19       NaN\n",
       "2004-08-20       NaN\n",
       "2004-08-23       NaN\n",
       "2004-08-24       NaN\n",
       "2004-08-25       NaN\n",
       "2004-08-26       NaN\n",
       "2004-08-27       NaN\n",
       "2004-08-30       NaN\n",
       "2004-08-31       NaN\n",
       "2004-09-01       NaN\n",
       "2004-09-02       NaN\n",
       "2004-09-03       NaN\n",
       "2004-09-07       NaN\n",
       "2004-09-08       NaN\n",
       "2004-09-09       NaN\n",
       "2004-09-10       NaN\n",
       "2004-09-13       NaN\n",
       "2004-09-14       NaN\n",
       "2004-09-15       NaN\n",
       "2004-09-16       NaN\n",
       "2004-09-17       NaN\n",
       "2004-09-20       NaN\n",
       "2004-09-21       NaN\n",
       "2004-09-22       NaN\n",
       "2004-09-23       NaN\n",
       "2004-09-24       NaN\n",
       "2004-09-27       NaN\n",
       "2004-09-28       NaN\n",
       "2004-09-29       NaN\n",
       "2004-09-30       NaN\n",
       "2004-10-01       NaN\n",
       "2004-10-04       NaN\n",
       "2004-10-05       NaN\n",
       "2004-10-06       NaN\n",
       "2004-10-07       NaN\n",
       "2004-10-08       NaN\n",
       "2004-10-11       NaN\n",
       "2004-10-12       NaN\n",
       "2004-10-13       NaN\n",
       "2004-10-14       NaN\n",
       "2004-10-15       NaN\n",
       "2004-10-18       NaN\n",
       "2004-10-19       NaN\n",
       "2004-10-20       NaN\n",
       "2004-10-21       NaN\n",
       "2004-10-22       NaN\n",
       "2004-10-25       NaN\n",
       "2004-10-26       NaN\n",
       "2004-10-27       NaN\n",
       "2004-10-28     63.59\n",
       "               ...  \n",
       "2021-11-04   2826.26\n",
       "2021-11-05   2829.22\n",
       "2021-11-08   2831.23\n",
       "2021-11-09   2832.96\n",
       "2021-11-10   2833.44\n",
       "2021-11-11   2833.66\n",
       "2021-11-12   2835.82\n",
       "2021-11-15   2837.70\n",
       "2021-11-16   2839.14\n",
       "2021-11-17   2840.88\n",
       "2021-11-18   2843.40\n",
       "2021-11-19   2846.62\n",
       "2021-11-22   2848.21\n",
       "2021-11-23   2849.51\n",
       "2021-11-24   2850.18\n",
       "2021-11-26   2849.61\n",
       "2021-11-29   2851.50\n",
       "2021-11-30   2852.78\n",
       "2021-12-01   2853.58\n",
       "2021-12-02   2854.66\n",
       "2021-12-03   2854.97\n",
       "2021-12-06   2855.35\n",
       "2021-12-07   2857.82\n",
       "2021-12-08   2862.77\n",
       "2021-12-09   2868.08\n",
       "2021-12-10   2873.81\n",
       "2021-12-13   2877.53\n",
       "2021-12-14   2881.62\n",
       "2021-12-15   2885.79\n",
       "2021-12-16   2888.54\n",
       "2021-12-17   2889.54\n",
       "2021-12-20   2890.27\n",
       "2021-12-21   2892.10\n",
       "2021-12-22   2896.08\n",
       "2021-12-23   2899.82\n",
       "2021-12-27   2902.52\n",
       "2021-12-28   2904.65\n",
       "2021-12-29   2906.20\n",
       "2021-12-30   2907.38\n",
       "2021-12-31   2908.61\n",
       "2022-01-03   2909.86\n",
       "2022-01-04   2912.59\n",
       "2022-01-05   2912.72\n",
       "2022-01-06   2912.10\n",
       "2022-01-07   2908.42\n",
       "2022-01-10   2905.54\n",
       "2022-01-11   2902.22\n",
       "2022-01-12   2901.39\n",
       "2022-01-13   2898.66\n",
       "2022-01-14   2895.81\n",
       "Name: Close, Length: 4384, dtype: float64"
      ]
     },
     "execution_count": 74,
     "metadata": {},
     "output_type": "execute_result"
    }
   ],
   "source": [
    "# get mean from all windows in rol\n",
    "# 50th value is the same as stock[:50].mean()\n",
    "rol.mean()"
   ]
  },
  {
   "cell_type": "markdown",
   "metadata": {},
   "source": [
    "<b>Question 5</b><br/>\n",
    "Consider this investment strategy: buy on day x and then sell after 5 days (on day x+5). Find the expected profit (in %) of this operation. <i>Hint</i>: explore the method <i>shift</i>"
   ]
  },
  {
   "cell_type": "code",
   "execution_count": null,
   "metadata": {},
   "outputs": [],
   "source": [
    "stock.head()"
   ]
  },
  {
   "cell_type": "code",
   "execution_count": 87,
   "metadata": {},
   "outputs": [
    {
     "data": {
      "text/plain": [
       "Date\n",
       "2004-08-19   54.21\n",
       "2004-08-20   54.75\n",
       "2004-08-23   52.49\n",
       "2004-08-24   53.05\n",
       "2004-08-25   54.01\n",
       "Name: Close, dtype: float64"
      ]
     },
     "execution_count": 87,
     "metadata": {},
     "output_type": "execute_result"
    }
   ],
   "source": [
    "# .shift() function Shift index by desired number of periods.\n",
    "# Shift the index axis (rows) by 1 period in a negative direction\n",
    "stock.shift(-1).head()"
   ]
  },
  {
   "cell_type": "code",
   "execution_count": 89,
   "metadata": {},
   "outputs": [
    {
     "data": {
      "text/plain": [
       "Date\n",
       "2004-08-19   50.22\n",
       "2004-08-20   54.21\n",
       "2004-08-23   54.75\n",
       "2004-08-24   52.49\n",
       "2004-08-25   53.05\n",
       "2004-08-26   54.01\n",
       "Name: Close, dtype: float64"
      ]
     },
     "execution_count": 89,
     "metadata": {},
     "output_type": "execute_result"
    }
   ],
   "source": [
    "stock.head(6)"
   ]
  },
  {
   "cell_type": "code",
   "execution_count": 76,
   "metadata": {},
   "outputs": [
    {
     "data": {
      "text/plain": [
       "Date\n",
       "2004-08-19     NaN\n",
       "2004-08-20   50.22\n",
       "2004-08-23   54.21\n",
       "2004-08-24   54.75\n",
       "2004-08-25   52.49\n",
       "Name: Close, dtype: float64"
      ]
     },
     "execution_count": 76,
     "metadata": {},
     "output_type": "execute_result"
    }
   ],
   "source": [
    "# Shift the index axis (rows) by 5 period in a negative direction\n",
    "# Get the stock price at the 5th day (the top row after shifting) \n",
    "stock.shift(1).head()"
   ]
  },
  {
   "cell_type": "code",
   "execution_count": 78,
   "metadata": {},
   "outputs": [
    {
     "data": {
      "text/plain": [
       "Date\n",
       "2004-08-19   54.01\n",
       "2004-08-20   53.13\n",
       "2004-08-23   51.06\n",
       "2004-08-24   51.24\n",
       "2004-08-25   50.18\n",
       "Name: Close, dtype: float64"
      ]
     },
     "execution_count": 78,
     "metadata": {},
     "output_type": "execute_result"
    }
   ],
   "source": [
    "stock.shift(-5).head()"
   ]
  },
  {
   "cell_type": "code",
   "execution_count": 80,
   "metadata": {},
   "outputs": [
    {
     "data": {
      "text/plain": [
       "Date\n",
       "2004-08-19   54.01\n",
       "Name: Close, dtype: float64"
      ]
     },
     "execution_count": 80,
     "metadata": {},
     "output_type": "execute_result"
    }
   ],
   "source": [
    "# Get the stock price at the 5th day (position 0 after shifting) \n",
    "stock.shift(-5)[:1]"
   ]
  },
  {
   "cell_type": "code",
   "execution_count": 82,
   "metadata": {},
   "outputs": [
    {
     "data": {
      "text/plain": [
       "Date\n",
       "2004-08-19     54.21\n",
       "2004-08-20     54.75\n",
       "2004-08-23     52.49\n",
       "2004-08-24     53.05\n",
       "2004-08-25     54.01\n",
       "2004-08-26     53.13\n",
       "2004-08-27     51.06\n",
       "2004-08-30     51.24\n",
       "2004-08-31     50.18\n",
       "2004-09-01     50.81\n",
       "2004-09-02     50.06\n",
       "2004-09-03     50.84\n",
       "2004-09-07     51.20\n",
       "2004-09-08     51.21\n",
       "2004-09-09     52.72\n",
       "2004-09-10     53.80\n",
       "2004-09-13     55.80\n",
       "2004-09-14     56.06\n",
       "2004-09-15     57.04\n",
       "2004-09-16     58.80\n",
       "2004-09-17     59.74\n",
       "2004-09-20     58.98\n",
       "2004-09-21     59.25\n",
       "2004-09-22     60.47\n",
       "2004-09-23     59.97\n",
       "2004-09-24     59.19\n",
       "2004-09-27     63.49\n",
       "2004-09-28     65.61\n",
       "2004-09-29     64.86\n",
       "2004-09-30     66.36\n",
       "2004-10-01     67.60\n",
       "2004-10-04     69.25\n",
       "2004-10-05     68.61\n",
       "2004-10-06     69.49\n",
       "2004-10-07     68.93\n",
       "2004-10-08     67.70\n",
       "2004-10-11     68.77\n",
       "2004-10-12     70.52\n",
       "2004-10-13     71.07\n",
       "2004-10-14     72.13\n",
       "2004-10-15     74.65\n",
       "2004-10-18     74.04\n",
       "2004-10-19     70.32\n",
       "2004-10-20     74.76\n",
       "2004-10-21     86.30\n",
       "2004-10-22     93.79\n",
       "2004-10-25     90.99\n",
       "2004-10-26     93.08\n",
       "2004-10-27     96.75\n",
       "2004-10-28     95.42\n",
       "               ...  \n",
       "2021-11-04   2977.04\n",
       "2021-11-05   2980.62\n",
       "2021-11-08   2978.37\n",
       "2021-11-09   2917.87\n",
       "2021-11-10   2915.33\n",
       "2021-11-11   2973.56\n",
       "2021-11-12   2969.04\n",
       "2021-11-15   2957.52\n",
       "2021-11-16   2960.94\n",
       "2021-11-17   2996.77\n",
       "2021-11-18   2978.53\n",
       "2021-11-19   2926.04\n",
       "2021-11-22   2915.64\n",
       "2021-11-23   2922.40\n",
       "2021-11-24   2843.66\n",
       "2021-11-26   2910.61\n",
       "2021-11-29   2837.95\n",
       "2021-11-30   2821.03\n",
       "2021-12-01   2859.32\n",
       "2021-12-02   2840.03\n",
       "2021-12-03   2863.10\n",
       "2021-12-06   2945.39\n",
       "2021-12-07   2963.73\n",
       "2021-12-08   2952.77\n",
       "2021-12-09   2960.03\n",
       "2021-12-10   2916.53\n",
       "2021-12-13   2878.14\n",
       "2021-12-14   2928.82\n",
       "2021-12-15   2888.90\n",
       "2021-12-16   2834.50\n",
       "2021-12-17   2832.14\n",
       "2021-12-20   2869.45\n",
       "2021-12-21   2928.30\n",
       "2021-12-22   2938.33\n",
       "2021-12-23   2958.13\n",
       "2021-12-27   2933.74\n",
       "2021-12-28   2933.10\n",
       "2021-12-29   2924.01\n",
       "2021-12-30   2897.04\n",
       "2021-12-31   2899.83\n",
       "2022-01-03   2887.99\n",
       "2022-01-04   2755.50\n",
       "2022-01-05   2754.95\n",
       "2022-01-06   2740.34\n",
       "2022-01-07   2773.39\n",
       "2022-01-10   2794.72\n",
       "2022-01-11   2828.61\n",
       "2022-01-12   2771.74\n",
       "2022-01-13   2789.61\n",
       "2022-01-14       NaN\n",
       "Name: Close, Length: 4384, dtype: float64"
      ]
     },
     "execution_count": 82,
     "metadata": {},
     "output_type": "execute_result"
    }
   ],
   "source": [
    "# Shift the index axis (rows) by 5 period in a negative direction\n",
    "# Save the result into variable futurePrices\n",
    "futurePrices = stock.shift(-1)\n",
    "futurePrices"
   ]
  },
  {
   "cell_type": "code",
   "execution_count": 84,
   "metadata": {},
   "outputs": [],
   "source": [
    "# Calculate expected profit (in %) and save thre results into profits series\n",
    "# (Future Prices - Current Prices) / Current Prices\n",
    "profits = (futurePrices - stock) / stock"
   ]
  },
  {
   "cell_type": "code",
   "execution_count": 86,
   "metadata": {},
   "outputs": [
    {
     "data": {
      "text/plain": [
       "0.0010963996541004922"
      ]
     },
     "execution_count": 86,
     "metadata": {},
     "output_type": "execute_result"
    }
   ],
   "source": [
    "# Calculate mean profit\n",
    "profits.mean()"
   ]
  },
  {
   "cell_type": "code",
   "execution_count": 88,
   "metadata": {},
   "outputs": [
    {
     "data": {
      "text/plain": [
       "Date\n",
       "2004-08-19    0.08\n",
       "2004-08-20    0.01\n",
       "2004-08-23   -0.04\n",
       "2004-08-24    0.01\n",
       "2004-08-25    0.02\n",
       "2004-08-26   -0.02\n",
       "2004-08-27   -0.04\n",
       "2004-08-30    0.00\n",
       "2004-08-31   -0.02\n",
       "2004-09-01    0.01\n",
       "2004-09-02   -0.01\n",
       "2004-09-03    0.02\n",
       "2004-09-07    0.01\n",
       "2004-09-08    0.00\n",
       "2004-09-09    0.03\n",
       "2004-09-10    0.02\n",
       "2004-09-13    0.04\n",
       "2004-09-14    0.00\n",
       "2004-09-15    0.02\n",
       "2004-09-16    0.03\n",
       "2004-09-17    0.02\n",
       "2004-09-20   -0.01\n",
       "2004-09-21    0.00\n",
       "2004-09-22    0.02\n",
       "2004-09-23   -0.01\n",
       "2004-09-24   -0.01\n",
       "2004-09-27    0.07\n",
       "2004-09-28    0.03\n",
       "2004-09-29   -0.01\n",
       "2004-09-30    0.02\n",
       "2004-10-01    0.02\n",
       "2004-10-04    0.02\n",
       "2004-10-05   -0.01\n",
       "2004-10-06    0.01\n",
       "2004-10-07   -0.01\n",
       "2004-10-08   -0.02\n",
       "2004-10-11    0.02\n",
       "2004-10-12    0.03\n",
       "2004-10-13    0.01\n",
       "2004-10-14    0.01\n",
       "2004-10-15    0.04\n",
       "2004-10-18   -0.01\n",
       "2004-10-19   -0.05\n",
       "2004-10-20    0.06\n",
       "2004-10-21    0.15\n",
       "2004-10-22    0.09\n",
       "2004-10-25   -0.03\n",
       "2004-10-26    0.02\n",
       "2004-10-27    0.04\n",
       "2004-10-28   -0.01\n",
       "              ... \n",
       "2021-11-04    0.00\n",
       "2021-11-05    0.00\n",
       "2021-11-08   -0.00\n",
       "2021-11-09   -0.02\n",
       "2021-11-10   -0.00\n",
       "2021-11-11    0.02\n",
       "2021-11-12   -0.00\n",
       "2021-11-15   -0.00\n",
       "2021-11-16    0.00\n",
       "2021-11-17    0.01\n",
       "2021-11-18   -0.01\n",
       "2021-11-19   -0.02\n",
       "2021-11-22   -0.00\n",
       "2021-11-23    0.00\n",
       "2021-11-24   -0.03\n",
       "2021-11-26    0.02\n",
       "2021-11-29   -0.02\n",
       "2021-11-30   -0.01\n",
       "2021-12-01    0.01\n",
       "2021-12-02   -0.01\n",
       "2021-12-03    0.01\n",
       "2021-12-06    0.03\n",
       "2021-12-07    0.01\n",
       "2021-12-08   -0.00\n",
       "2021-12-09    0.00\n",
       "2021-12-10   -0.01\n",
       "2021-12-13   -0.01\n",
       "2021-12-14    0.02\n",
       "2021-12-15   -0.01\n",
       "2021-12-16   -0.02\n",
       "2021-12-17   -0.00\n",
       "2021-12-20    0.01\n",
       "2021-12-21    0.02\n",
       "2021-12-22    0.00\n",
       "2021-12-23    0.01\n",
       "2021-12-27   -0.01\n",
       "2021-12-28   -0.00\n",
       "2021-12-29   -0.00\n",
       "2021-12-30   -0.01\n",
       "2021-12-31    0.00\n",
       "2022-01-03   -0.00\n",
       "2022-01-04   -0.05\n",
       "2022-01-05   -0.00\n",
       "2022-01-06   -0.01\n",
       "2022-01-07    0.01\n",
       "2022-01-10    0.01\n",
       "2022-01-11    0.01\n",
       "2022-01-12   -0.02\n",
       "2022-01-13    0.01\n",
       "2022-01-14     NaN\n",
       "Name: Close, Length: 4384, dtype: float64"
      ]
     },
     "execution_count": 88,
     "metadata": {},
     "output_type": "execute_result"
    }
   ],
   "source": [
    "profits"
   ]
  },
  {
   "cell_type": "code",
   "execution_count": 90,
   "metadata": {},
   "outputs": [
    {
     "data": {
      "text/plain": [
       "count   4383.00\n",
       "mean       0.00\n",
       "std        0.02\n",
       "min       -0.12\n",
       "25%       -0.01\n",
       "50%        0.00\n",
       "75%        0.01\n",
       "max        0.20\n",
       "Name: Close, dtype: float64"
      ]
     },
     "execution_count": 90,
     "metadata": {},
     "output_type": "execute_result"
    }
   ],
   "source": [
    "# Use describe function to get the statistical description of profits\n",
    "profits.describe()"
   ]
  },
  {
   "cell_type": "markdown",
   "metadata": {},
   "source": [
    "So what exactly profit average means ?  Assuming invest $100 on day 1. "
   ]
  },
  {
   "cell_type": "code",
   "execution_count": 93,
   "metadata": {},
   "outputs": [
    {
     "data": {
      "text/plain": [
       "480.6616083576558"
      ]
     },
     "execution_count": 93,
     "metadata": {},
     "output_type": "execute_result"
    }
   ],
   "source": [
    "# $100 * average daily profit * number of days\n",
    "100 * profits.mean() * len(stock)"
   ]
  },
  {
   "cell_type": "markdown",
   "metadata": {},
   "source": [
    "To be more precise .."
   ]
  },
  {
   "cell_type": "code",
   "execution_count": 96,
   "metadata": {},
   "outputs": [
    {
     "data": {
      "text/plain": [
       "480.11340853060557"
      ]
     },
     "execution_count": 96,
     "metadata": {},
     "output_type": "execute_result"
    }
   ],
   "source": [
    "#  buy on day x and then sell after 5 days (on day x+5)\n",
    "100* profits.mean() * (len(stock)-5)"
   ]
  },
  {
   "cell_type": "markdown",
   "metadata": {},
   "source": [
    "<b>Question 6</b><br/>\n",
    "Consider this investment strategy: buy whenever the price goes above the 20-day moving average, and then sell after 5 trading sessions. How much profit (in %) would we make on average?"
   ]
  },
  {
   "cell_type": "code",
   "execution_count": 98,
   "metadata": {},
   "outputs": [
    {
     "data": {
      "text/plain": [
       "Date\n",
       "2004-08-19       NaN\n",
       "2004-08-20       NaN\n",
       "2004-08-23       NaN\n",
       "2004-08-24       NaN\n",
       "2004-08-25       NaN\n",
       "2004-08-26       NaN\n",
       "2004-08-27       NaN\n",
       "2004-08-30       NaN\n",
       "2004-08-31       NaN\n",
       "2004-09-01       NaN\n",
       "2004-09-02       NaN\n",
       "2004-09-03       NaN\n",
       "2004-09-07       NaN\n",
       "2004-09-08       NaN\n",
       "2004-09-09       NaN\n",
       "2004-09-10       NaN\n",
       "2004-09-13       NaN\n",
       "2004-09-14       NaN\n",
       "2004-09-15       NaN\n",
       "2004-09-16     52.69\n",
       "2004-09-17     53.12\n",
       "2004-09-20     53.40\n",
       "2004-09-21     53.61\n",
       "2004-09-22     53.95\n",
       "2004-09-23     54.32\n",
       "2004-09-24     54.62\n",
       "2004-09-27     54.92\n",
       "2004-09-28     55.54\n",
       "2004-09-29     56.26\n",
       "2004-09-30     56.99\n",
       "2004-10-01     57.77\n",
       "2004-10-04     58.65\n",
       "2004-10-05     59.57\n",
       "2004-10-06     60.44\n",
       "2004-10-07     61.36\n",
       "2004-10-08     62.17\n",
       "2004-10-11     62.86\n",
       "2004-10-12     63.51\n",
       "2004-10-13     64.23\n",
       "2004-10-14     64.93\n",
       "2004-10-15     65.60\n",
       "2004-10-18     66.35\n",
       "2004-10-19     67.10\n",
       "2004-10-20     67.65\n",
       "2004-10-21     68.37\n",
       "2004-10-22     69.68\n",
       "2004-10-25     71.41\n",
       "2004-10-26     72.79\n",
       "2004-10-27     74.16\n",
       "2004-10-28     75.76\n",
       "               ...  \n",
       "2021-11-04   2843.15\n",
       "2021-11-05   2852.22\n",
       "2021-11-08   2862.33\n",
       "2021-11-09   2874.80\n",
       "2021-11-10   2883.11\n",
       "2021-11-11   2887.73\n",
       "2021-11-12   2895.04\n",
       "2021-11-15   2900.71\n",
       "2021-11-16   2905.35\n",
       "2021-11-17   2911.63\n",
       "2021-11-18   2919.58\n",
       "2021-11-19   2930.94\n",
       "2021-11-22   2939.80\n",
       "2021-11-23   2946.27\n",
       "2021-11-24   2946.17\n",
       "2021-11-26   2942.51\n",
       "2021-11-29   2939.99\n",
       "2021-11-30   2938.39\n",
       "2021-12-01   2934.01\n",
       "2021-12-02   2930.38\n",
       "2021-12-03   2924.11\n",
       "2021-12-06   2918.42\n",
       "2021-12-07   2916.66\n",
       "2021-12-08   2915.92\n",
       "2021-12-09   2917.67\n",
       "2021-12-10   2919.90\n",
       "2021-12-13   2917.05\n",
       "2021-12-14   2912.51\n",
       "2021-12-15   2911.07\n",
       "2021-12-16   2907.47\n",
       "2021-12-17   2899.36\n",
       "2021-12-20   2892.04\n",
       "2021-12-21   2889.21\n",
       "2021-12-22   2889.84\n",
       "2021-12-23   2890.64\n",
       "2021-12-27   2896.36\n",
       "2021-12-28   2897.52\n",
       "2021-12-29   2902.27\n",
       "2021-12-30   2907.42\n",
       "2021-12-31   2909.31\n",
       "2022-01-03   2912.30\n",
       "2022-01-04   2913.54\n",
       "2022-01-05   2904.05\n",
       "2022-01-06   2893.61\n",
       "2022-01-07   2882.99\n",
       "2022-01-10   2873.66\n",
       "2022-01-11   2867.57\n",
       "2022-01-12   2865.09\n",
       "2022-01-13   2857.24\n",
       "2022-01-14   2852.27\n",
       "Name: Close, Length: 4384, dtype: float64"
      ]
     },
     "execution_count": 98,
     "metadata": {},
     "output_type": "execute_result"
    }
   ],
   "source": [
    "# Get the series of 20-day moving average (for a given day, get the average stock price in these 20 days)\n",
    "# Use rolling function\n",
    "movavg = stock.rolling(20).mean()\n",
    "movavg"
   ]
  },
  {
   "cell_type": "code",
   "execution_count": 100,
   "metadata": {},
   "outputs": [
    {
     "data": {
      "text/plain": [
       "Date\n",
       "2004-08-19     NaN\n",
       "2004-08-20     NaN\n",
       "2004-08-23     NaN\n",
       "2004-08-24     NaN\n",
       "2004-08-25     NaN\n",
       "2004-08-26   -0.07\n",
       "2004-08-27    0.02\n",
       "2004-08-30    0.07\n",
       "2004-08-31    0.02\n",
       "2004-09-01    0.06\n",
       "2004-09-02    0.06\n",
       "2004-09-03    0.06\n",
       "2004-09-07    0.00\n",
       "2004-09-08    0.00\n",
       "2004-09-09   -0.02\n",
       "2004-09-10   -0.04\n",
       "2004-09-13   -0.07\n",
       "2004-09-14   -0.09\n",
       "2004-09-15   -0.09\n",
       "2004-09-16   -0.10\n",
       "2004-09-17   -0.10\n",
       "2004-09-20   -0.10\n",
       "2004-09-21   -0.05\n",
       "2004-09-22   -0.05\n",
       "2004-09-23   -0.06\n",
       "2004-09-24   -0.02\n",
       "2004-09-27    0.01\n",
       "2004-09-28   -0.07\n",
       "2004-09-29   -0.10\n",
       "2004-09-30   -0.07\n",
       "2004-10-01   -0.10\n",
       "2004-10-04   -0.12\n",
       "2004-10-05   -0.08\n",
       "2004-10-06   -0.04\n",
       "2004-10-07   -0.07\n",
       "2004-10-08   -0.04\n",
       "2004-10-11   -0.00\n",
       "2004-10-12    0.01\n",
       "2004-10-13   -0.03\n",
       "2004-10-14   -0.02\n",
       "2004-10-15   -0.04\n",
       "2004-10-18   -0.09\n",
       "2004-10-19   -0.07\n",
       "2004-10-20    0.00\n",
       "2004-10-21   -0.05\n",
       "2004-10-22   -0.16\n",
       "2004-10-25   -0.20\n",
       "2004-10-26   -0.19\n",
       "2004-10-27   -0.24\n",
       "2004-10-28   -0.23\n",
       "              ... \n",
       "2021-11-04   -0.02\n",
       "2021-11-05   -0.01\n",
       "2021-11-08   -0.04\n",
       "2021-11-09   -0.02\n",
       "2021-11-10    0.00\n",
       "2021-11-11    0.02\n",
       "2021-11-12    0.00\n",
       "2021-11-15    0.00\n",
       "2021-11-16    0.01\n",
       "2021-11-17   -0.01\n",
       "2021-11-18   -0.03\n",
       "2021-11-19   -0.00\n",
       "2021-11-22    0.01\n",
       "2021-11-23    0.01\n",
       "2021-11-24    0.01\n",
       "2021-11-26    0.05\n",
       "2021-11-29    0.02\n",
       "2021-11-30    0.03\n",
       "2021-12-01    0.03\n",
       "2021-12-02    0.02\n",
       "2021-12-03    0.00\n",
       "2021-12-06    0.02\n",
       "2021-12-07   -0.04\n",
       "2021-12-08   -0.05\n",
       "2021-12-09   -0.03\n",
       "2021-12-10   -0.04\n",
       "2021-12-13   -0.02\n",
       "2021-12-14    0.02\n",
       "2021-12-15    0.01\n",
       "2021-12-16    0.02\n",
       "2021-12-17    0.04\n",
       "2021-12-20    0.03\n",
       "2021-12-21    0.00\n",
       "2021-12-22    0.00\n",
       "2021-12-23   -0.02\n",
       "2021-12-27   -0.04\n",
       "2021-12-28   -0.03\n",
       "2021-12-29   -0.02\n",
       "2021-12-30    0.00\n",
       "2021-12-31    0.01\n",
       "2022-01-03    0.02\n",
       "2022-01-04    0.02\n",
       "2022-01-05    0.06\n",
       "2022-01-06    0.06\n",
       "2022-01-07    0.06\n",
       "2022-01-10    0.05\n",
       "2022-01-11    0.03\n",
       "2022-01-12   -0.03\n",
       "2022-01-13   -0.01\n",
       "2022-01-14   -0.02\n",
       "Name: Close, Length: 4384, dtype: float64"
      ]
     },
     "execution_count": 100,
     "metadata": {},
     "output_type": "execute_result"
    }
   ],
   "source": [
    "# For each day, calculate expected profit after 5 trading sessions.\n",
    "profit = (stock.shift(5) - stock) / stock\n",
    "profit"
   ]
  },
  {
   "cell_type": "code",
   "execution_count": 102,
   "metadata": {},
   "outputs": [
    {
     "data": {
      "text/plain": [
       "-0.022031797828489946"
      ]
     },
     "execution_count": 102,
     "metadata": {},
     "output_type": "execute_result"
    }
   ],
   "source": [
    "# For profit series, take the average of profits if stock prices > the average stock price in 20 days\n",
    "profit[stock > movavg].mean()"
   ]
  },
  {
   "cell_type": "code",
   "execution_count": 104,
   "metadata": {},
   "outputs": [
    {
     "data": {
      "text/plain": [
       "2621"
      ]
     },
     "execution_count": 104,
     "metadata": {},
     "output_type": "execute_result"
    }
   ],
   "source": [
    "# Calculate the number of days that stock prices > the average stock price in 20 days\n",
    "len(profit[stock > movavg])"
   ]
  },
  {
   "cell_type": "markdown",
   "metadata": {},
   "source": [
    "With the same $100.00 to start with, we get the profit ..."
   ]
  },
  {
   "cell_type": "code",
   "execution_count": 107,
   "metadata": {},
   "outputs": [
    {
     "data": {
      "text/plain": [
       "-5774.534210847215"
      ]
     },
     "execution_count": 107,
     "metadata": {},
     "output_type": "execute_result"
    }
   ],
   "source": [
    "# $100 * average profits * number of days\n",
    "100 * profit[stock > movavg].mean() * len(profit[stock > movavg])"
   ]
  },
  {
   "cell_type": "markdown",
   "metadata": {},
   "source": [
    "## Median prices of single family homes in zip code 95050"
   ]
  },
  {
   "cell_type": "markdown",
   "metadata": {},
   "source": [
    "The file <i>santaclara_sfh.csv</i> was downloaded from <a href= 'http://zillow.com'>zillow.com</a>. For each end of month day, this file reports the median price of a single family home (sfh) in zip code 95050 over the previous 3 months. The data starts from 2012-01-31 and ends on recent month."
   ]
  },
  {
   "cell_type": "markdown",
   "metadata": {},
   "source": [
    "The following code loads and cleans the data set <i>santaclara_sfh.csv</i>, which you should copy into the same folder as this Jupyter notebook. For the moment, do not worry about understanding the code."
   ]
  },
  {
   "cell_type": "code",
   "execution_count": 112,
   "metadata": {},
   "outputs": [],
   "source": [
    "pd.set_option('display.max_rows', 20)\n",
    "pd.set_option('display.min_rows', 20)"
   ]
  },
  {
   "cell_type": "code",
   "execution_count": 114,
   "metadata": {},
   "outputs": [
    {
     "name": "stderr",
     "output_type": "stream",
     "text": [
      "/var/folders/_t/99rhfqy12md_q88dy260m5d80000gn/T/ipykernel_8887/4286241389.py:4: UserWarning: Could not infer format, so each element will be parsed individually, falling back to `dateutil`. To ensure parsing is consistent and as-expected, please specify a format.\n",
      "  df = pd.read_csv('santaclara_sfh.csv', index_col='date', parse_dates=True)\n"
     ]
    },
    {
     "data": {
      "text/plain": [
       "date\n",
       "2012-01-31    485000.00\n",
       "2012-02-29    528000.00\n",
       "2012-03-31    568000.00\n",
       "2012-04-30    620000.00\n",
       "2012-05-31    630000.00\n",
       "2012-06-30    673000.00\n",
       "2012-07-31    682000.00\n",
       "2012-08-31    655000.00\n",
       "2012-09-30    645000.00\n",
       "2012-10-31    673000.00\n",
       "                ...    \n",
       "2021-03-31   1465000.00\n",
       "2021-04-30   1470000.00\n",
       "2021-05-31   1475000.00\n",
       "2021-06-30   1510000.00\n",
       "2021-07-31   1560000.00\n",
       "2021-08-31   1545000.00\n",
       "2021-09-30   1532500.00\n",
       "2021-10-31   1517500.00\n",
       "2021-11-30   1525000.00\n",
       "2021-12-31   1535000.00\n",
       "Name: median_sfh_price_past_3_months, Length: 120, dtype: float64"
      ]
     },
     "execution_count": 114,
     "metadata": {},
     "output_type": "execute_result"
    }
   ],
   "source": [
    "# Read 'santaclara_sfh.csv'\n",
    "# Set column 'date' as index\n",
    "# Covert 'date' from sting to date format\n",
    "df = pd.read_csv('santaclara_sfh.csv', index_col='date', parse_dates=True)\n",
    "\n",
    "# make the price column of type float\n",
    "df['median_sfh_price_past_3_months'] = df.median_sfh_price_past_3_months + 0.0 \n",
    "\n",
    "# take the series of median prices\n",
    "housing = df['median_sfh_price_past_3_months']\n",
    "housing"
   ]
  },
  {
   "cell_type": "markdown",
   "metadata": {},
   "source": [
    "Let's take a look at the oldest prices"
   ]
  },
  {
   "cell_type": "code",
   "execution_count": 117,
   "metadata": {},
   "outputs": [
    {
     "data": {
      "text/plain": [
       "date\n",
       "2012-01-31   485000.00\n",
       "2012-02-29   528000.00\n",
       "2012-03-31   568000.00\n",
       "2012-04-30   620000.00\n",
       "2012-05-31   630000.00\n",
       "Name: median_sfh_price_past_3_months, dtype: float64"
      ]
     },
     "execution_count": 117,
     "metadata": {},
     "output_type": "execute_result"
    }
   ],
   "source": [
    "# Check top 5 elements\n",
    "housing.head(5)"
   ]
  },
  {
   "cell_type": "markdown",
   "metadata": {},
   "source": [
    "Remember that each price is the median over the previous three months. So, for example, the median sale price in the period from 2012-02-01 to 2012-04-30 was $620,000. Let's plot it."
   ]
  },
  {
   "cell_type": "code",
   "execution_count": 120,
   "metadata": {},
   "outputs": [
    {
     "data": {
      "text/plain": [
       "<Axes: xlabel='date'>"
      ]
     },
     "execution_count": 120,
     "metadata": {},
     "output_type": "execute_result"
    },
    {
     "data": {
      "image/png": "[encoded data removed]",
      "text/plain": [
       "<Figure size 640x480 with 1 Axes>"
      ]
     },
     "metadata": {},
     "output_type": "display_data"
    }
   ],
   "source": [
    "# plot the housing series\n",
    "housing.plot()"
   ]
  },
  {
   "cell_type": "markdown",
   "metadata": {},
   "source": [
    "## Are housing prices correlated to stock prices?"
   ]
  },
  {
   "cell_type": "markdown",
   "metadata": {},
   "source": [
    "<p>To anwer this question, we first need to align the two Series. The Series <i>housing</i> has one entry for each ending day of each month and a value that is the 3-month moving average; the series <i>stock</i> has one entry for each <b>trading day</b> and the value that is the closing price. </p>\n",
    "<p>To align the two Series, we will create a new Series of stock prices that has only one entry for every month-end-day and reports the 3-month moving median price of the stock</p>"
   ]
  },
  {
   "cell_type": "markdown",
   "metadata": {},
   "source": [
    "<p>We will do the following:\n",
    "<ol>\n",
    "<li>Pad <i>stock</i> so that there are no missing days (currently, holidays are missing)\n",
    "<li>Compute the 3-month moving median of <i>stock</i>\n",
    "<li>Retain only the end-of-month days in <i>stock</i>\n",
    "</ol>\n",
    "</p>\n"
   ]
  },
  {
   "cell_type": "markdown",
   "metadata": {},
   "source": [
    "#### Step #1: Pad stock so that there are no missing days (currently, holidays are missing)"
   ]
  },
  {
   "cell_type": "code",
   "execution_count": 126,
   "metadata": {
    "scrolled": true
   },
   "outputs": [],
   "source": [
    "# Pad stock so that there are no missing days (currently, holidays are missing)\n",
    "# Pandas dataframe.asfreq() function is used to convert TimeSeries to specified frequency.\n",
    "# '1D': 1 day\n",
    "# 'ffill': propagate last valid observation forward to next valid\n",
    "padded = stock.asfreq(freq='1D', method='ffill')"
   ]
  },
  {
   "cell_type": "code",
   "execution_count": 128,
   "metadata": {},
   "outputs": [
    {
     "data": {
      "text/plain": [
       "Date\n",
       "2004-08-19   50.22\n",
       "2004-08-20   54.21\n",
       "2004-08-23   54.75\n",
       "2004-08-24   52.49\n",
       "2004-08-25   53.05\n",
       "2004-08-26   54.01\n",
       "2004-08-27   53.13\n",
       "2004-08-30   51.06\n",
       "2004-08-31   51.24\n",
       "2004-09-01   50.18\n",
       "Name: Close, dtype: float64"
      ]
     },
     "execution_count": 128,
     "metadata": {},
     "output_type": "execute_result"
    }
   ],
   "source": [
    "# Check top 10 stock observations\n",
    "stock[:10]"
   ]
  },
  {
   "cell_type": "code",
   "execution_count": 130,
   "metadata": {},
   "outputs": [
    {
     "data": {
      "text/plain": [
       "Date\n",
       "2004-08-19   50.22\n",
       "2004-08-20   54.21\n",
       "2004-08-21   54.21\n",
       "2004-08-22   54.21\n",
       "2004-08-23   54.75\n",
       "2004-08-24   52.49\n",
       "2004-08-25   53.05\n",
       "2004-08-26   54.01\n",
       "2004-08-27   53.13\n",
       "2004-08-28   53.13\n",
       "2004-08-29   53.13\n",
       "2004-08-30   51.06\n",
       "2004-08-31   51.24\n",
       "2004-09-01   50.18\n",
       "2004-09-02   50.81\n",
       "2004-09-03   50.06\n",
       "2004-09-04   50.06\n",
       "2004-09-05   50.06\n",
       "2004-09-06   50.06\n",
       "2004-09-07   50.84\n",
       "Freq: D, Name: Close, dtype: float64"
      ]
     },
     "execution_count": 130,
     "metadata": {},
     "output_type": "execute_result"
    }
   ],
   "source": [
    "# Check top 20 padded observations\n",
    "padded[:20]"
   ]
  },
  {
   "cell_type": "markdown",
   "metadata": {},
   "source": [
    "#### Step #2: Compute the 90-day moving median of stock"
   ]
  },
  {
   "cell_type": "code",
   "execution_count": 133,
   "metadata": {},
   "outputs": [],
   "source": [
    "# Use rolling function to get 90-day moving median (for a given day, get the median stock price in these 90 days)\n",
    "movmed = padded.rolling(90).median()"
   ]
  },
  {
   "cell_type": "code",
   "execution_count": 135,
   "metadata": {},
   "outputs": [
    {
     "data": {
      "text/plain": [
       "Date\n",
       "2004-11-07     NaN\n",
       "2004-11-08     NaN\n",
       "2004-11-09     NaN\n",
       "2004-11-10     NaN\n",
       "2004-11-11     NaN\n",
       "2004-11-12     NaN\n",
       "2004-11-13     NaN\n",
       "2004-11-14     NaN\n",
       "2004-11-15     NaN\n",
       "2004-11-16   66.36\n",
       "2004-11-17   66.98\n",
       "2004-11-18   67.65\n",
       "2004-11-19   68.15\n",
       "2004-11-20   68.69\n",
       "2004-11-21   68.85\n",
       "2004-11-22   68.93\n",
       "2004-11-23   68.93\n",
       "2004-11-24   69.09\n",
       "2004-11-25   69.37\n",
       "2004-11-26   69.90\n",
       "Freq: D, Name: Close, dtype: float64"
      ]
     },
     "execution_count": 135,
     "metadata": {},
     "output_type": "execute_result"
    }
   ],
   "source": [
    "# Check poistion 80th to 99th observations\n",
    "movmed[80:100]"
   ]
  },
  {
   "cell_type": "markdown",
   "metadata": {},
   "source": [
    "#### Step #3: Retain the same days as in the housing Series"
   ]
  },
  {
   "cell_type": "code",
   "execution_count": 142,
   "metadata": {},
   "outputs": [
    {
     "data": {
      "text/plain": [
       "DatetimeIndex(['2012-01-31', '2012-02-29', '2012-03-31', '2012-04-30',\n",
       "               '2012-05-31', '2012-06-30', '2012-07-31', '2012-08-31',\n",
       "               '2012-09-30', '2012-10-31'],\n",
       "              dtype='datetime64[ns]', name='date', freq=None)"
      ]
     },
     "execution_count": 142,
     "metadata": {},
     "output_type": "execute_result"
    }
   ],
   "source": [
    "# Check top 10 dates (index)\n",
    "housing.index[:10]"
   ]
  },
  {
   "cell_type": "code",
   "execution_count": 144,
   "metadata": {},
   "outputs": [],
   "source": [
    "# Get the 90 days median stock price for each observation in housing series\n",
    "mod_stock = movmed[housing.index]"
   ]
  },
  {
   "cell_type": "code",
   "execution_count": 146,
   "metadata": {},
   "outputs": [
    {
     "data": {
      "text/plain": [
       "date\n",
       "2012-01-31   310.49\n",
       "2012-02-29   310.49\n",
       "2012-03-31   306.86\n",
       "2012-04-30   307.37\n",
       "2012-05-31   306.92\n",
       "2012-06-30   300.23\n",
       "2012-07-31   293.29\n",
       "2012-08-31   295.52\n",
       "2012-09-30   335.02\n",
       "2012-10-31   342.89\n",
       "Name: Close, dtype: float64"
      ]
     },
     "execution_count": 146,
     "metadata": {},
     "output_type": "execute_result"
    }
   ],
   "source": [
    "# Check 10 housing date observations' 90 days median stock price\n",
    "mod_stock[:10]"
   ]
  },
  {
   "cell_type": "markdown",
   "metadata": {},
   "source": [
    "### Compute correlation"
   ]
  },
  {
   "cell_type": "markdown",
   "metadata": {},
   "source": [
    "Are stock and housing prices correlated?"
   ]
  },
  {
   "cell_type": "code",
   "execution_count": 150,
   "metadata": {},
   "outputs": [
    {
     "data": {
      "text/plain": [
       "0.8738868931677115"
      ]
     },
     "execution_count": 150,
     "metadata": {},
     "output_type": "execute_result"
    }
   ],
   "source": [
    "# Use corr function to check the correlation value between housing and mod_stock\n",
    "housing.corr(mod_stock)"
   ]
  },
  {
   "cell_type": "markdown",
   "metadata": {},
   "source": [
    "Uh... yes, they are strongly correlated"
   ]
  },
  {
   "cell_type": "markdown",
   "metadata": {},
   "source": [
    "Let's plot them"
   ]
  },
  {
   "cell_type": "code",
   "execution_count": 154,
   "metadata": {},
   "outputs": [
    {
     "data": {
      "text/plain": [
       "[<matplotlib.lines.Line2D at 0x126777f50>]"
      ]
     },
     "execution_count": 154,
     "metadata": {},
     "output_type": "execute_result"
    },
    {
     "data": {
      "text/plain": [
       "[<matplotlib.lines.Line2D at 0x126778380>]"
      ]
     },
     "execution_count": 154,
     "metadata": {},
     "output_type": "execute_result"
    },
    {
     "data": {
      "image/png": "[encoded data removed]",
      "text/plain": [
       "<Figure size 640x480 with 1 Axes>"
      ]
     },
     "metadata": {},
     "output_type": "display_data"
    }
   ],
   "source": [
    "# plot the two series in a line chart\n",
    "import matplotlib.pyplot as plt\n",
    "\n",
    "plt.plot(mod_stock,'b')  # b for \"blue\"\n",
    "plt.plot(housing,'r') # r for \"red\" \n",
    "plt.show()"
   ]
  },
  {
   "cell_type": "markdown",
   "metadata": {},
   "source": [
    "mmm... the problem is that the two scales are very different: housing is about 1M dollars while the stock price is in the order of hundreds of dollars. "
   ]
  },
  {
   "cell_type": "markdown",
   "metadata": {},
   "source": [
    "Let's normalize them so that the value on the first day (2012-01-31) is 1 for both series."
   ]
  },
  {
   "cell_type": "code",
   "execution_count": 158,
   "metadata": {},
   "outputs": [
    {
     "name": "stderr",
     "output_type": "stream",
     "text": [
      "/var/folders/_t/99rhfqy12md_q88dy260m5d80000gn/T/ipykernel_8887/2583485333.py:2: FutureWarning: Series.__getitem__ treating keys as positions is deprecated. In a future version, integer keys will always be treated as labels (consistent with DataFrame behavior). To access a value by position, use `ser.iloc[pos]`\n",
      "  norm_stock = mod_stock / mod_stock[0]\n"
     ]
    }
   ],
   "source": [
    "# normalize on the first day (2012-01-31) observation\n",
    "norm_stock = mod_stock / mod_stock[0]"
   ]
  },
  {
   "cell_type": "code",
   "execution_count": 160,
   "metadata": {},
   "outputs": [],
   "source": [
    "# normalize on the first day (2012-01-31) observation\n",
    "norm_housing = housing / housing.iloc[0]"
   ]
  },
  {
   "cell_type": "markdown",
   "metadata": {},
   "source": [
    "Plot the normalized data again"
   ]
  },
  {
   "cell_type": "code",
   "execution_count": 163,
   "metadata": {},
   "outputs": [
    {
     "data": {
      "text/plain": [
       "[<matplotlib.lines.Line2D at 0x126784170>]"
      ]
     },
     "execution_count": 163,
     "metadata": {},
     "output_type": "execute_result"
    },
    {
     "data": {
      "text/plain": [
       "[<matplotlib.lines.Line2D at 0x127384500>]"
      ]
     },
     "execution_count": 163,
     "metadata": {},
     "output_type": "execute_result"
    },
    {
     "data": {
      "image/png": "[encoded data removed]",
      "text/plain": [
       "<Figure size 640x480 with 1 Axes>"
      ]
     },
     "metadata": {},
     "output_type": "display_data"
    }
   ],
   "source": [
    "plt.plot(norm_stock,'b')  # b for \"blue\"\n",
    "plt.plot(norm_housing,'r') # r for \"red\" \n",
    "plt.show()"
   ]
  },
  {
   "cell_type": "markdown",
   "metadata": {},
   "source": [
    "Assign proper legends for different lines"
   ]
  },
  {
   "cell_type": "code",
   "execution_count": 174,
   "metadata": {},
   "outputs": [
    {
     "data": {
      "text/plain": [
       "[<matplotlib.lines.Line2D at 0x1273c48c0>]"
      ]
     },
     "execution_count": 174,
     "metadata": {},
     "output_type": "execute_result"
    },
    {
     "data": {
      "text/plain": [
       "[<matplotlib.lines.Line2D at 0x127540b60>]"
      ]
     },
     "execution_count": 174,
     "metadata": {},
     "output_type": "execute_result"
    },
    {
     "data": {
      "text/plain": [
       "<matplotlib.legend.Legend at 0x12639b290>"
      ]
     },
     "execution_count": 174,
     "metadata": {},
     "output_type": "execute_result"
    },
    {
     "data": {
      "image/png": "[encoded data removed]",
      "text/plain": [
       "<Figure size 640x480 with 1 Axes>"
      ]
     },
     "metadata": {},
     "output_type": "display_data"
    }
   ],
   "source": [
    "plt.plot(norm_stock,'b')  # b for \"blue\"\n",
    "plt.plot(norm_housing,'r') # r for \"red\" \n",
    "#creates a legend for labeled plot elements\n",
    "plt.legend(['Stock','Housing'])\n",
    "plt.show()"
   ]
  },
  {
   "cell_type": "code",
   "execution_count": null,
   "metadata": {},
   "outputs": [],
   "source": []
  }
 ],
 "metadata": {
  "kernelspec": {
   "display_name": "Python 3 (ipykernel)",
   "language": "python",
   "name": "python3"
  },
  "language_info": {
   "codemirror_mode": {
    "name": "ipython",
    "version": 3
   },
   "file_extension": ".py",
   "mimetype": "text/x-python",
   "name": "python",
   "nbconvert_exporter": "python",
   "pygments_lexer": "ipython3",
   "version": "3.12.4"
  }
 },
 "nbformat": 4,
 "nbformat_minor": 4
}
